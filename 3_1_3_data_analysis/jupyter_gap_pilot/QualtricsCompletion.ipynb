{
 "cells": [
  {
   "cell_type": "markdown",
   "metadata": {},
   "source": [
    "# Setup"
   ]
  },
  {
   "cell_type": "code",
   "execution_count": 1,
   "metadata": {},
   "outputs": [],
   "source": [
    "import numpy as np\n",
    "import pandas as pd"
   ]
  },
  {
   "cell_type": "markdown",
   "metadata": {},
   "source": [
    "# Run 1"
   ]
  },
  {
   "cell_type": "markdown",
   "metadata": {},
   "source": [
    "## Offboarding"
   ]
  },
  {
   "cell_type": "markdown",
   "metadata": {},
   "source": [
    "### Load Data"
   ]
  },
  {
   "cell_type": "code",
   "execution_count": 146,
   "metadata": {},
   "outputs": [],
   "source": [
    "qualtrics = pd.read_csv('/Users/djw/Documents/pCloud_synced/Academics/Projects/2020_thesis/thesis_experiments/3_experiments/3_3_experience_sampling/3_3_1_raw_data/run_1/Qualtrics_BIGap_run1Offboarding_run2Onboarding.csv')\n",
    "\n",
    "qualtrics = qualtrics.iloc[2:,].reset_index(drop=True)\n",
    "qualtrics.Progress = pd.to_numeric(qualtrics.Progress)\n",
    "qualtrics['studentNumber'] = pd.to_numeric(qualtrics.loc[:,'consent_sonaID']).astype('Int64')"
   ]
  },
  {
   "cell_type": "code",
   "execution_count": 162,
   "metadata": {},
   "outputs": [],
   "source": [
    "qualtrics = qualtrics.loc[qualtrics.StartDate > '2022-12-15 17:20:22']"
   ]
  },
  {
   "cell_type": "code",
   "execution_count": 163,
   "metadata": {},
   "outputs": [],
   "source": [
    "df = qualtrics[['studentNumber', 'Progress']]"
   ]
  },
  {
   "cell_type": "markdown",
   "metadata": {
    "collapsed": "true"
   },
   "source": [
    "### Subjects"
   ]
  },
  {
   "cell_type": "code",
   "execution_count": 135,
   "metadata": {},
   "outputs": [],
   "source": [
    "# 59 subjects that were kept in study\n",
    "run1subs = [\n",
    "    1008957265,\n",
    "    1009340394,\n",
    "    1009326971,\n",
    "    1009113576,\n",
    "    1009158091,\n",
    "    1008317536,\n",
    "    1008888125,\n",
    "    1007263907,\n",
    "    1009000091,\n",
    "    1009300604,\n",
    "    1005503643,\n",
    "    1009577995,\n",
    "    1008504717,\n",
    "    1009299536,\n",
    "    1009620234,\n",
    "    1007099202,\n",
    "    1007264283,\n",
    "    1006494125,\n",
    "    1006204796,\n",
    "    1009100811,\n",
    "    1007209343,\n",
    "    1009544049,\n",
    "    1004444942,\n",
    "    1006300922,\n",
    "    1008909102,\n",
    "    1008799622,\n",
    "    1007189445,\n",
    "    1009293293,\n",
    "    1009075233,\n",
    "    1007143663,\n",
    "    1008156488,\n",
    "    1008914864,\n",
    "    1009765620,\n",
    "    1009440632,\n",
    "    1006440870,\n",
    "    1008998462,\n",
    "    1008441642,\n",
    "    1009293970,\n",
    "    1009366687,\n",
    "    1009437995,\n",
    "    1009100688,\n",
    "    1006324470,\n",
    "    1009340508,\n",
    "    1009253594,\n",
    "    1005536724,\n",
    "    1005242088,\n",
    "    1008953642,\n",
    "    1006504294,\n",
    "    1004637244,\n",
    "    1009122334,\n",
    "    1009429272,\n",
    "    1009298555,\n",
    "    1009122619,\n",
    "    1009149011,\n",
    "    1005732655,\n",
    "    1009368435,\n",
    "    1009053266,\n",
    "    1007218422,\n",
    "    1006509761\n",
    "]"
   ]
  },
  {
   "cell_type": "markdown",
   "metadata": {},
   "source": [
    "### Subject Progress"
   ]
  },
  {
   "cell_type": "code",
   "execution_count": 167,
   "metadata": {},
   "outputs": [],
   "source": [
    "df = df.loc[df.studentNumber.isin(run1subs)]"
   ]
  },
  {
   "cell_type": "code",
   "execution_count": 168,
   "metadata": {},
   "outputs": [],
   "source": [
    "df = df.sort_values('Progress', ascending=False).drop_duplicates('studentNumber')"
   ]
  },
  {
   "cell_type": "code",
   "execution_count": 169,
   "metadata": {},
   "outputs": [],
   "source": [
    "df = df.sort_values('studentNumber')"
   ]
  },
  {
   "cell_type": "code",
   "execution_count": 179,
   "metadata": {},
   "outputs": [
    {
     "data": {
      "text/html": [
       "<div>\n",
       "<style scoped>\n",
       "    .dataframe tbody tr th:only-of-type {\n",
       "        vertical-align: middle;\n",
       "    }\n",
       "\n",
       "    .dataframe tbody tr th {\n",
       "        vertical-align: top;\n",
       "    }\n",
       "\n",
       "    .dataframe thead th {\n",
       "        text-align: right;\n",
       "    }\n",
       "</style>\n",
       "<table border=\"1\" class=\"dataframe\">\n",
       "  <thead>\n",
       "    <tr style=\"text-align: right;\">\n",
       "      <th></th>\n",
       "      <th>studentNumber</th>\n",
       "      <th>Progress</th>\n",
       "    </tr>\n",
       "  </thead>\n",
       "  <tbody>\n",
       "    <tr>\n",
       "      <th>175</th>\n",
       "      <td>1009765620</td>\n",
       "      <td>100</td>\n",
       "    </tr>\n",
       "  </tbody>\n",
       "</table>\n",
       "</div>"
      ],
      "text/plain": [
       "     studentNumber  Progress\n",
       "175     1009765620       100"
      ]
     },
     "execution_count": 179,
     "metadata": {},
     "output_type": "execute_result"
    }
   ],
   "source": [
    "df.loc[df.studentNumber==1009765620]"
   ]
  },
  {
   "cell_type": "markdown",
   "metadata": {},
   "source": [
    "# Run 2"
   ]
  },
  {
   "cell_type": "markdown",
   "metadata": {},
   "source": [
    "## Onboarding"
   ]
  },
  {
   "cell_type": "code",
   "execution_count": 24,
   "metadata": {
    "collapsed": true,
    "jupyter": {
     "outputs_hidden": true
    }
   },
   "outputs": [
    {
     "name": "stderr",
     "output_type": "stream",
     "text": [
      "/Users/djw/opt/miniconda3/envs/thesis_env/lib/python3.8/site-packages/IPython/core/interactiveshell.py:3071: DtypeWarning: Columns (2,4,5,6,9,10,11,12,13,14,17,18,19,20,21,22,23,25,26,27,28,29,30,31,32,33,34,35,36,37,38,39,40,41,42,43,44,45,46,47,48,49,50,54,55,56,57,58,59,60,61,62,63,64,65,66,67,68,69,70,71,73,74,75,76,77,78,80,81,82,83,84,85,87,88,89,90,91,92,94,95,96,97,98,99,101,102,103,104,105,106,107,108,109,110,111,112,113,114,115,116,117,118,119,120,121,122,123,124,125,126,127,128,129,130,131,132,133,134,135,136,137,138,139,140,141,142,143,144,145,146,147,148,149,150,151,152,153,154,155,156,157,158,159,160,161,162,163,164,165,166,167,168,169,170,171,172,173,174,175,176,177,178,179,180,181,182,183,184,185,186,187,188,189,190,191,192,193,194,195,196,197,198,199,200,201,202,203,204,205,206,207,208,209,210,211,212,213,214,215,216,217,218,219,220,221,222,223,224,225,226,227,228,229,230,231,232,233,234,235,236,237,238,239,240,241,242,243,244,245,246,247,248,249,250,251,252,253,254,255,256,257,258,259,260,261,262,263,264,265,266,267,268,269,270,271,272,273,274,275,276,277,278,279,280,281,282,283,284,285,286,287,288,289,290,291,292,293,294,295,296,297,298,299,300,301,302,303,304,305,306,307,308,309,310,311,312,313,314,315,316,317,318,319,320,321,322,323,324,325,326,327,328,329,330,331,332,333,334,335,336,337,338,339,340,341,342,343,344,345,346,347,348,349,350,351,352,353,354,355,356,357,358,359,360,361,362,363,364,365,366,367,368,369,370,371,372,373,374,375,376,377,378,379,380,381,382,383,384,385,386,387,388,389,390,391,392,393,394,395,396,397,398,399,400,401,402,403,404,405,406,407,408,409,410,411,412,413,414,415,416,417,418,419,420,421,422,423,424,425,426,427,428,429,430,431,432,433,434,435,436,437,438,439,440,441,442,443,444,445,446,447,448,449,450,451,452,453,454,455,456,457,458,459,460,461,462,463,464,465,466,467,468,469,470,471,472,473,474,475,476,477,478,479,480,481,482,483,484,485,486,487,488,489,490,491,492,493,494,495,496,497,498,499,500,501,502,503,504,505,506,507,508,509,510,511,512,513,514,515,516,517,518,519,520,521,522,523,524,525,526,527,528,529,530,531,532,533,534,535,536,537,538,539,540,541,542,543,544,545,546,547,548,549,550,551,552,553,554,555,556,557,558,559,560,561,562,563,564,565,566,567,568,569,570,571,572,573,574,575,576,577,578,579,580,581,582,583,584,585,586,587,588,589,590,591,592,593,594,595,596,597,598,599,600,601,602,603,604,605,606,607,608,609,610,611,612,613,614,615,616,617,618,619,620,621,622,623,624,625,626,627,628,629,630,631,632,633,634,635,636,637,638,639,640,641,642,643,644,645,646,647,648,649,650,651,652,653,654,655,656,657,658,659,660,661,662,663,664,665,666,667,668,669,670,671,672,673,674,675,676,677,678,679,680,681,682,683,684,685,686,687,688,689,690,691,692,693,694,695,696,697,698,699,700,701,702,703,704,705,706,707,708,709,710,711,712,713,714,715,716,717,718,719,720,721,722,723,724,725,726,727,728,729,730,731,732,733,734,735,736,737,738,739,740,741,742,743,744,745,746,747,748,749,750,751,752,753,754,755,756,757,758,759,760,761,762,763,764,765,766,767,768,769,770,771,772,773,774,775,776,777,778,779,780,781,782,783,784,785,786,787,788,789,790,791,792,793,794,795,796,797,798,799,800,801,802,803,804,805,806,807,808,809,810,811,812,813,814,815,816,817,818,819,820,821,822,823,824,825,826,827,828,829,830,831,832,833,834,835,836,837,838,839,840,841,842,843,844,845,846,847,848,849,850,851,852,853,854,855,856,857,858,859,860,861,862,863,864,865,866,867,868,869,870,871,872,873,874,875,876,877,878,879,880,881,882,883,884,885,886,887,888,889,890,891,892,893,894,895,896,897,898,899,900,901,902,903,904,905,906,907,908,909,910,911,912,913,914,915,916,917,918,919,920,921,922,923,924,925,926,927,928,929,930,931,932,933,934,935,936,937,938,939,940,941,942,943,944,945,946,947,948,949,950,951,952,953,954,955,956,957,958,959,960,961,962,963,964,965,966,967,968,969,970,971,972,973,974,975,976,977,978,979,980,981,982,983,984,985,986,987,988,989,990,991,992,993,994,995,996,997,998,999,1000,1001,1002,1003,1004,1005,1006,1007,1008,1009,1010,1011,1012,1013,1014,1015,1016,1017,1018,1019,1020,1021,1022,1023,1024,1025,1026,1027,1028,1029,1030,1031,1032,1033,1034,1035,1036,1037,1038,1039,1040,1041,1042,1043,1044,1045,1046,1047,1048,1049,1050,1051,1052,1053,1054,1055,1056,1057,1058,1059,1060,1061,1062,1063,1064,1065,1066,1067,1068,1069,1070,1071,1072,1073,1074,1075,1076,1077,1078,1079,1080,1081,1082,1083,1084,1085,1086,1087,1088,1089,1090,1091,1092,1093,1094,1095,1096,1097,1098,1099,1100,1101,1102,1103,1104,1105,1106,1107,1108,1109,1110,1111,1112,1113,1114,1115,1116,1117,1118,1119,1120,1121,1122,1123,1124,1125,1126,1127,1128,1129,1130,1131,1132,1133,1134,1135,1136,1137,1138,1139,1140,1141,1142,1143,1144,1145,1146,1147,1148,1149,1150,1151,1152,1153,1154,1155,1156,1157,1158,1159,1160,1161,1162,1163,1164,1165,1166,1167,1168,1169,1170,1171,1172,1173,1174,1175,1176,1177,1178,1179,1180,1181,1182,1183,1184,1185,1186,1187,1188,1189,1190,1191,1192,1193,1194,1195,1196,1197,1198,1199,1200,1201,1202,1203,1204,1205,1206,1207,1208,1209,1210,1211,1212,1213,1214,1215,1216,1217,1218,1219,1220,1221,1222,1223,1224,1225,1226,1227,1228,1229,1230,1231,1232,1233,1234,1235,1236,1237,1238,1239,1240,1241,1242,1243,1244,1245,1246,1247,1248,1249,1250,1251,1252,1253,1254,1255,1256,1257,1258,1259,1260,1261,1262,1263,1264,1265,1266,1267,1268,1269,1270,1271,1272,1273,1274,1275,1276,1277,1278,1279,1280,1281,1282,1283,1284,1285,1286,1287,1288,1289,1290,1291,1292,1293,1294,1295,1296,1297,1298,1299,1300,1301,1302,1303,1304,1305,1306,1307,1308,1309,1310,1311,1312,1313,1314,1315,1316,1317,1318,1319,1320,1321,1322,1323,1324,1325,1326,1327,1328,1329,1330,1331,1332,1333,1334,1335,1336,1337,1338,1339,1340,1341,1342,1343,1344,1345,1346,1347,1348,1349,1350,1351,1352,1353,1354,1355,1356,1357,1358,1359,1360,1361,1362,1363,1364,1365,1366,1367,1368,1369,1370,1371,1372,1373,1374,1375,1376,1377,1378,1379,1380,1381,1382,1383,1384,1385,1386,1387,1388,1389,1390,1391,1392,1393,1394,1395,1396,1397,1398,1399,1400,1401,1402,1403,1404,1405,1406,1407,1408,1409,1410,1411,1412,1413,1414,1415,1416,1417,1418,1419,1420,1421,1422,1423,1424,1425,1426,1427,1428,1429,1430,1431,1432,1433,1434,1435,1436,1437,1438,1439,1440,1441,1442,1443,1444,1445,1446,1447,1448,1449,1450,1451,1452,1453,1454,1455,1456,1457,1458,1459,1460,1461,1462,1463,1464,1465,1466,1467,1468,1469,1470,1471,1472,1473,1474,1475,1476,1477,1478,1479,1480,1481,1482,1483,1484,1485,1486,1487,1488,1489,1490,1491,1492,1493,1494,1495,1496,1497,1498,1499,1500,1501,1502,1503,1504,1505,1506,1507,1508,1509,1510,1511,1512,1513,1514,1515,1516,1517,1518,1519,1520,1521,1522,1523,1524,1525,1526,1527,1528,1529,1530,1531,1532,1533,1534,1535,1536,1537,1538,1539,1540,1541,1542,1543,1544,1545,1546,1547,1548,1549,1550,1551,1552,1553,1554,1555,1556,1557,1558,1559,1560,1561,1562,1563,1564,1565,1566,1567,1568,1569,1570,1571,1572,1573,1574,1575,1576,1577,1578,1579,1580,1581,1582,1583,1584,1585,1586,1587,1588,1589,1590,1591,1592,1593,1594,1595,1596,1597,1598,1599,1600,1601,1602,1603,1604,1605,1606,1607,1608,1609,1610,1611,1612,1613,1614,1615,1616,1617,1618,1619,1620,1621,1622,1623,1624,1625,1626,1627,1628,1629,1630,1631,1632,1633,1634,1635,1636,1637,1638,1639,1640,1641,1642,1643,1644,1645,1646,1647,1648,1649,1650,1651,1652,1653,1654,1655,1656,1657,1658,1659,1660,1661,1662,1663,1664,1665,1666,1667,1668,1669,1670,1671,1672,1673,1674,1675,1676,1677,1678,1679,1680,1681,1682,1683,1684,1685,1687,1688,1689,1690,1691,1692,1693,1694,1695,1696,1697,1698,1699,1700,1701,1702,1703,1704,1705,1706,1707,1708,1709,1710,1711,1712,1713,1714,1715,1716,1717,1718,1719,1720,1721,1722,1723,1724,1725,1726,1727,1728,1729,1730,1731,1732,1733,1734,1735,1736,1737,1738,1739,1740,1741,1742,1743,1744,1745,1746,1747,1748,1749,1750,1751,1752,1753,1754,1755,1756,1757,1758,1759,1760,1761,1762,1763,1764,1765,1766,1767,1768,1769,1770,1771,1772,1773,1774,1775,1776,1777,1778,1779,1780,1781,1782,1783,1784,1785,1786,1787,1788,1789,1790,1791,1792,1793,1794,1795,1796,1797,1798,1799,1800,1801,1802,1803,1804,1805,1806,1807,1808,1809,1810,1811,1812,1813,1814,1815,1816,1817,1818,1819,1820,1821,1822,1823,1824,1825,1826,1827,1828,1829,1830,1831,1832,1833,1834,1835,1836,1837,1838,1839,1840,1841,1842,1843,1844,1845,1846,1847,1848,1849,1850,1851,1852,1853,1854,1855,1856,1857,1858,1859,1860,1861,1862,1863,1864,1865,1866,1867,1868,1869,1870,1871,1872,1873,1874,1875,1876,1877,1878,1879,1880,1881,1882,1883,1884,1885,1886,1887,1888,1889,1890,1891,1892,1893,1894,1895,1896,1897,1898,1899,1900,1901,1902,1903,1904,1905,1906,1907,1908,1909,1910,1911,1912,1913,1914,1915,1916,1917,1918,1919,1920,1921,1922,1923,1924,1925,1926,1927,1928,1929,1930,1931,1932,1933,1937,1938,1939,1940,1941,1942,1946,1948,1949,1950,1951,1952,1954,1955,1956,1957,1958) have mixed types.Specify dtype option on import or set low_memory=False.\n",
      "  has_raised = await self.run_ast_nodes(code_ast.body, cell_name,\n"
     ]
    }
   ],
   "source": [
    "qualtrics = pd.read_csv('/Users/djw/Documents/pCloud_synced/Academics/Projects/2020_thesis/thesis_experiments/3_experiments/3_1_gap_measure/3_1_1_raw_data/SONA/IB_numeric_SONA_vOct2022_09122022.csv')\n",
    "qualtrics = qualtrics.iloc[2:,].reset_index(drop=True)\n",
    "qualtrics.Progress = pd.to_numeric(qualtrics.Progress)"
   ]
  },
  {
   "cell_type": "code",
   "execution_count": 41,
   "metadata": {},
   "outputs": [
    {
     "data": {
      "text/plain": [
       "(938, 1959)"
      ]
     },
     "execution_count": 41,
     "metadata": {},
     "output_type": "execute_result"
    }
   ],
   "source": [
    "qualtrics.shape"
   ]
  },
  {
   "cell_type": "code",
   "execution_count": 42,
   "metadata": {},
   "outputs": [
    {
     "data": {
      "text/html": [
       "<div>\n",
       "<style scoped>\n",
       "    .dataframe tbody tr th:only-of-type {\n",
       "        vertical-align: middle;\n",
       "    }\n",
       "\n",
       "    .dataframe tbody tr th {\n",
       "        vertical-align: top;\n",
       "    }\n",
       "\n",
       "    .dataframe thead th {\n",
       "        text-align: right;\n",
       "    }\n",
       "</style>\n",
       "<table border=\"1\" class=\"dataframe\">\n",
       "  <thead>\n",
       "    <tr style=\"text-align: right;\">\n",
       "      <th></th>\n",
       "      <th>StartDate</th>\n",
       "      <th>EndDate</th>\n",
       "      <th>Status</th>\n",
       "      <th>IPAddress</th>\n",
       "      <th>Progress</th>\n",
       "      <th>Duration (in seconds)</th>\n",
       "      <th>Finished</th>\n",
       "      <th>RecordedDate</th>\n",
       "      <th>ResponseId</th>\n",
       "      <th>RecipientLastName</th>\n",
       "      <th>...</th>\n",
       "      <th>time_swl_cantril</th>\n",
       "      <th>time_sec_work_ethic</th>\n",
       "      <th>time_grit_short</th>\n",
       "      <th>time_tipi</th>\n",
       "      <th>time_debrief</th>\n",
       "      <th>time_need_for_cognition</th>\n",
       "      <th>time_boredom_prone</th>\n",
       "      <th>time_ccs</th>\n",
       "      <th>time_ambition_scale_end</th>\n",
       "      <th>id</th>\n",
       "    </tr>\n",
       "  </thead>\n",
       "  <tbody>\n",
       "    <tr>\n",
       "      <th>0</th>\n",
       "      <td>2022-10-22 22:41:50</td>\n",
       "      <td>2022-10-22 22:53:52</td>\n",
       "      <td>1</td>\n",
       "      <td>NaN</td>\n",
       "      <td>100</td>\n",
       "      <td>722</td>\n",
       "      <td>1</td>\n",
       "      <td>2022-10-22 22:53:53</td>\n",
       "      <td>R_2CrGAHYI1WeVuGk</td>\n",
       "      <td>NaN</td>\n",
       "      <td>...</td>\n",
       "      <td>NaN</td>\n",
       "      <td>NaN</td>\n",
       "      <td>NaN</td>\n",
       "      <td>NaN</td>\n",
       "      <td>04:53:25</td>\n",
       "      <td>NaN</td>\n",
       "      <td>NaN</td>\n",
       "      <td>NaN</td>\n",
       "      <td>NaN</td>\n",
       "      <td>NaN</td>\n",
       "    </tr>\n",
       "    <tr>\n",
       "      <th>1</th>\n",
       "      <td>2022-10-23 01:56:32</td>\n",
       "      <td>2022-10-23 02:06:06</td>\n",
       "      <td>1</td>\n",
       "      <td>NaN</td>\n",
       "      <td>100</td>\n",
       "      <td>574</td>\n",
       "      <td>1</td>\n",
       "      <td>2022-10-23 02:06:08</td>\n",
       "      <td>R_3FJM59clPN5bEvi</td>\n",
       "      <td>NaN</td>\n",
       "      <td>...</td>\n",
       "      <td>NaN</td>\n",
       "      <td>NaN</td>\n",
       "      <td>NaN</td>\n",
       "      <td>NaN</td>\n",
       "      <td>08:05:57</td>\n",
       "      <td>NaN</td>\n",
       "      <td>NaN</td>\n",
       "      <td>NaN</td>\n",
       "      <td>NaN</td>\n",
       "      <td>NaN</td>\n",
       "    </tr>\n",
       "    <tr>\n",
       "      <th>2</th>\n",
       "      <td>2022-10-23 03:26:49</td>\n",
       "      <td>2022-10-23 04:02:57</td>\n",
       "      <td>0</td>\n",
       "      <td>174.91.50.21</td>\n",
       "      <td>100</td>\n",
       "      <td>2167</td>\n",
       "      <td>1</td>\n",
       "      <td>2022-10-23 04:02:58</td>\n",
       "      <td>R_3n2UvysFk34TfSH</td>\n",
       "      <td>NaN</td>\n",
       "      <td>...</td>\n",
       "      <td>NaN</td>\n",
       "      <td>NaN</td>\n",
       "      <td>NaN</td>\n",
       "      <td>NaN</td>\n",
       "      <td>10:02:52</td>\n",
       "      <td>NaN</td>\n",
       "      <td>NaN</td>\n",
       "      <td>NaN</td>\n",
       "      <td>NaN</td>\n",
       "      <td>28193</td>\n",
       "    </tr>\n",
       "    <tr>\n",
       "      <th>3</th>\n",
       "      <td>2022-10-23 05:20:46</td>\n",
       "      <td>2022-10-23 06:45:55</td>\n",
       "      <td>0</td>\n",
       "      <td>174.95.137.25</td>\n",
       "      <td>100</td>\n",
       "      <td>5109</td>\n",
       "      <td>1</td>\n",
       "      <td>2022-10-23 06:45:56</td>\n",
       "      <td>R_3R423FHrqFOTLDg</td>\n",
       "      <td>NaN</td>\n",
       "      <td>...</td>\n",
       "      <td>NaN</td>\n",
       "      <td>NaN</td>\n",
       "      <td>NaN</td>\n",
       "      <td>NaN</td>\n",
       "      <td>12:45:43</td>\n",
       "      <td>NaN</td>\n",
       "      <td>NaN</td>\n",
       "      <td>NaN</td>\n",
       "      <td>NaN</td>\n",
       "      <td>28598</td>\n",
       "    </tr>\n",
       "    <tr>\n",
       "      <th>4</th>\n",
       "      <td>2022-10-23 06:15:56</td>\n",
       "      <td>2022-10-23 07:45:24</td>\n",
       "      <td>0</td>\n",
       "      <td>198.52.155.246</td>\n",
       "      <td>100</td>\n",
       "      <td>5367</td>\n",
       "      <td>1</td>\n",
       "      <td>2022-10-23 07:45:25</td>\n",
       "      <td>R_27veEkl2wmysJeE</td>\n",
       "      <td>NaN</td>\n",
       "      <td>...</td>\n",
       "      <td>NaN</td>\n",
       "      <td>NaN</td>\n",
       "      <td>NaN</td>\n",
       "      <td>NaN</td>\n",
       "      <td>13:45:08</td>\n",
       "      <td>NaN</td>\n",
       "      <td>NaN</td>\n",
       "      <td>NaN</td>\n",
       "      <td>NaN</td>\n",
       "      <td>27538</td>\n",
       "    </tr>\n",
       "  </tbody>\n",
       "</table>\n",
       "<p>5 rows × 1959 columns</p>\n",
       "</div>"
      ],
      "text/plain": [
       "             StartDate              EndDate Status       IPAddress  Progress  \\\n",
       "0  2022-10-22 22:41:50  2022-10-22 22:53:52      1             NaN       100   \n",
       "1  2022-10-23 01:56:32  2022-10-23 02:06:06      1             NaN       100   \n",
       "2  2022-10-23 03:26:49  2022-10-23 04:02:57      0    174.91.50.21       100   \n",
       "3  2022-10-23 05:20:46  2022-10-23 06:45:55      0   174.95.137.25       100   \n",
       "4  2022-10-23 06:15:56  2022-10-23 07:45:24      0  198.52.155.246       100   \n",
       "\n",
       "  Duration (in seconds) Finished         RecordedDate         ResponseId  \\\n",
       "0                   722        1  2022-10-22 22:53:53  R_2CrGAHYI1WeVuGk   \n",
       "1                   574        1  2022-10-23 02:06:08  R_3FJM59clPN5bEvi   \n",
       "2                  2167        1  2022-10-23 04:02:58  R_3n2UvysFk34TfSH   \n",
       "3                  5109        1  2022-10-23 06:45:56  R_3R423FHrqFOTLDg   \n",
       "4                  5367        1  2022-10-23 07:45:25  R_27veEkl2wmysJeE   \n",
       "\n",
       "  RecipientLastName  ... time_swl_cantril time_sec_work_ethic time_grit_short  \\\n",
       "0               NaN  ...              NaN                 NaN             NaN   \n",
       "1               NaN  ...              NaN                 NaN             NaN   \n",
       "2               NaN  ...              NaN                 NaN             NaN   \n",
       "3               NaN  ...              NaN                 NaN             NaN   \n",
       "4               NaN  ...              NaN                 NaN             NaN   \n",
       "\n",
       "  time_tipi time_debrief time_need_for_cognition time_boredom_prone time_ccs  \\\n",
       "0       NaN     04:53:25                     NaN                NaN      NaN   \n",
       "1       NaN     08:05:57                     NaN                NaN      NaN   \n",
       "2       NaN     10:02:52                     NaN                NaN      NaN   \n",
       "3       NaN     12:45:43                     NaN                NaN      NaN   \n",
       "4       NaN     13:45:08                     NaN                NaN      NaN   \n",
       "\n",
       "  time_ambition_scale_end     id  \n",
       "0                     NaN    NaN  \n",
       "1                     NaN    NaN  \n",
       "2                     NaN  28193  \n",
       "3                     NaN  28598  \n",
       "4                     NaN  27538  \n",
       "\n",
       "[5 rows x 1959 columns]"
      ]
     },
     "execution_count": 42,
     "metadata": {},
     "output_type": "execute_result"
    }
   ],
   "source": [
    "qualtrics.head()"
   ]
  },
  {
   "cell_type": "code",
   "execution_count": 104,
   "metadata": {},
   "outputs": [
    {
     "data": {
      "text/plain": [
       "0          232323\n",
       "1           11111\n",
       "2      1006884409\n",
       "3      1008295168\n",
       "4      1009179791\n",
       "          ...    \n",
       "933    1009436479\n",
       "934    1009159447\n",
       "935          <NA>\n",
       "936    1009409926\n",
       "937    1009409926\n",
       "Name: consent_sonaID, Length: 938, dtype: Int64"
      ]
     },
     "execution_count": 104,
     "metadata": {},
     "output_type": "execute_result"
    }
   ],
   "source": []
  },
  {
   "cell_type": "code",
   "execution_count": 105,
   "metadata": {},
   "outputs": [],
   "source": [
    "qualtrics.Progress = pd.to_numeric(qualtrics.Progress)\n",
    "qualtrics['studentNumber'] = pd.to_numeric(qualtrics.loc[:,'consent_sonaID']).astype('Int64')"
   ]
  },
  {
   "cell_type": "code",
   "execution_count": 106,
   "metadata": {},
   "outputs": [
    {
     "data": {
      "text/plain": [
       "0          232323\n",
       "1           11111\n",
       "2      1006884409\n",
       "3      1008295168\n",
       "4      1009179791\n",
       "          ...    \n",
       "933    1009436479\n",
       "934    1009159447\n",
       "935          <NA>\n",
       "936    1009409926\n",
       "937    1009409926\n",
       "Name: studentNumber, Length: 938, dtype: Int64"
      ]
     },
     "execution_count": 106,
     "metadata": {},
     "output_type": "execute_result"
    }
   ],
   "source": [
    "qualtrics.studentNumber"
   ]
  },
  {
   "cell_type": "markdown",
   "metadata": {
    "collapsed": "true"
   },
   "source": [
    "## Retest"
   ]
  },
  {
   "cell_type": "code",
   "execution_count": 16,
   "metadata": {},
   "outputs": [
    {
     "data": {
      "text/plain": [
       "['asdf@gmail.com',\n",
       " 'zbj996891103@icloud.com',\n",
       " 'yunyi.zhang@mail.utoronto.ca',\n",
       " 'david.yenn@mail.utoronto.ca',\n",
       " 'ayeshakh.khan@mail.utoronto.ca',\n",
       " 'faaizah.lawal@mail.utoronto.ca',\n",
       " 'sierra.goveia@gmail.com',\n",
       " 'dominique.delcastillo@mail.utoronto.ca',\n",
       " 'funmi.sosanya@mail.utoronto.ca',\n",
       " 'arielle.ramgoolie@mail.utoronto.ca',\n",
       " 'reemaleilan4@gmail.com',\n",
       " 'nuzhat.azim@mail.utoronto.ca',\n",
       " 'bryanyeukyeung@gmail.com',\n",
       " 'bella.brundl@mail.utoronto.ca',\n",
       " 'janicey.lam@mail.utoronto.ca',\n",
       " '1954289908@qq.com',\n",
       " 'emilyj.choi@mail.utoronto.ca',\n",
       " 'albertsszzdd@gmail.com',\n",
       " 'yuhaoo.wang@mail.utoronto.ca',\n",
       " 'michelle.linnnnn@gmail.com',\n",
       " 'gabriel.oliver@mail.utoronto.ca',\n",
       " 'wenjun.he@mail.utoronto.ca',\n",
       " 'd.djaigbe@mail.utoronto.ca',\n",
       " 'jasminee.patel@mail.utoronto.ca',\n",
       " 'sandra2004monica@gmail.com',\n",
       " 'bita.saadat@mail.utoronto.ca',\n",
       " 'Isabellamacisaac@outlook.com',\n",
       " 'jess.kerzner@mail.utoronto.ca',\n",
       " 'liz.ogboghodo@gmail.com',\n",
       " 'ananya.mehra200418@gmail.com',\n",
       " 'denise.hsu@mail.utoronto.ca',\n",
       " 'hayahsiddiqui17@gmail.com',\n",
       " 'aishwaria.pathmanesan@mail.utoronto.ca',\n",
       " 'hafsahh.siddiqui@mail.utoronto.ca',\n",
       " 'cindy.singh@mail.utoronto.ca',\n",
       " 'Nancy.lai@mail.utoronto.ca',\n",
       " 'monica.zhuo@mail.utoronto.ca',\n",
       " 'rachel.karwel@mail.utoronto.ca',\n",
       " 'shaathana2004@gmail.com',\n",
       " 'youzhu.wang@mail.utoronto.ca',\n",
       " 'SpiderJad8@gmail.com',\n",
       " 'd.salomon.03@icloud.com',\n",
       " 'thanigah@gmail.com',\n",
       " 'manasi.goregaonkar@mail.utoronto.ca',\n",
       " 'miri.huang@mail.utoronto.ca',\n",
       " 'tianna.ntim@mail.utoronto.ca',\n",
       " 'aoyuxin@foxmail.com',\n",
       " 'theora.pui@mail.utoronto.ca',\n",
       " 'ashritha.kajendran@mail.utoronto.ca',\n",
       " 'Kaelyn16g@gmail.com',\n",
       " 'mohammad.askari@mail.utoronto.ca',\n",
       " 'lina.park@mail.utoronto.ca',\n",
       " 'itsmeapril416@gmail.com',\n",
       " 'docifunanya@gmail.com',\n",
       " 'zaira.barron@mail.utoronto.ca',\n",
       " 'mihara.guruge@mail.utoronto.ca',\n",
       " 'tanvi.mago@mail.utoronto.ca',\n",
       " 'anhadsingh.tulsi@mail.utoronto.ca',\n",
       " 'nibisha.chaudhary@gmail.com',\n",
       " 'talia.bakhat@mail.utoronto.ca',\n",
       " 'bwh20040615@163.com',\n",
       " 'nasib.tarabishy@mail.utoronto.ca',\n",
       " 'zoey.fan@mail.utoronto.ca',\n",
       " 'shada.abdulhadi29@gmail.com',\n",
       " 'marina.pavlus@mail.utoronto.ca',\n",
       " 'christine.duggan@mail.utoronto.ca',\n",
       " 'amelie.lhenaff@mail.utoronto.ca',\n",
       " 'kenneth.jarencio@mail.utoronto.ca',\n",
       " 'lingling.deng@mail.utoronto.ca',\n",
       " 'nanjiba.rakib@mail.utoronto.ca',\n",
       " 'amisha.hilchand@mail.utoronto.ca',\n",
       " 'sarah.durrani@mail.utoronto.ca',\n",
       " 'makiyo.tan@mail.utoronto.ca',\n",
       " 'smera.shirali@mail.utoronto.ca',\n",
       " 'hibba.khursheed@mail.utoronto.ca',\n",
       " 'hadia.yosofi@mail.utoronto.ca',\n",
       " 'campbja04@gmail.com',\n",
       " 'juliette.gilbert@mail.utoronto.ca',\n",
       " 'vittorioshchan@gmail.com',\n",
       " 'jahnyah24@icloud.com',\n",
       " 'nikita.sarrafpourhabibi@mail.utoronto.ca',\n",
       " 'sunshu3@mail.utoronto.ca',\n",
       " 'mahesha.mahmud@gmail.com',\n",
       " 'y9rdwn0110@gmail.com',\n",
       " 'ravskothari@gmail.com',\n",
       " 'kenjipho@gmail.com',\n",
       " 'olyvia.thomas@mail.utoronto.ca',\n",
       " 'ethan26andrada@gmail.com',\n",
       " 'kajany.prathipan@mail.utoronto.ca',\n",
       " 'bianca.anandarajah@mail.utoronto.ca',\n",
       " 'khadijah.khan32@gmail.com',\n",
       " 'marmar26341@yahoo.com',\n",
       " 'sitha.sukumar@mail.utoronto.ca',\n",
       " 'Justinwu32@outlook.com',\n",
       " 'ken.aligiannis@mail.utoronto.ca',\n",
       " 'amsa.umapathithasan@mail.utoronto.ca',\n",
       " 'enayah.shaikh@mail.utoronto.ca',\n",
       " 'sabinakuvadia@gmail.com',\n",
       " 's.ji@mail.utoronto.ca',\n",
       " 'hailey.cooper@mail.utoronto.ca',\n",
       " 'parin.patel@mail.utoronto.ca',\n",
       " 'joanes.nino105@gmail.com',\n",
       " 'precious.owoade@mail.utoronto.ca',\n",
       " 'rafiya.neki@mail.utoronto.ca',\n",
       " 'ebadimealad@gmail.com',\n",
       " 'ananyavarshneyjp@gmail.com',\n",
       " 'wuda.r.04@gmail.com',\n",
       " 'kaylakm04@gmail.com',\n",
       " 'nazia.adel@mail.utoronto.ca',\n",
       " 'iman.mansoor345@gmail.com',\n",
       " 'sumehra.choudhury@mail.utoronto.ca',\n",
       " 'haraniya.vasanthakumar@mail.utoronto.ca',\n",
       " 'liaba.aamir@mail.utoronto.ca',\n",
       " 'ericshalma28@gmail.com',\n",
       " 'lynda.dufrasne@mail.utoronto.ca',\n",
       " 'cassidyleung338@gmail.com',\n",
       " 'haj.ahmad@mail.utoronto.ca',\n",
       " 'chenqi.xu@mail.utoronto.ca',\n",
       " 'affan.abdulkhader@mail.utoronto.ca',\n",
       " 'unaisa.hassan@mail.utoronto.ca',\n",
       " 'k.quan@mail.utoronto.ca',\n",
       " 'maheerah.anwar@mail.utoronto.ca',\n",
       " 'sueroaguilar@gmail.com',\n",
       " 'Nagham.omran@mail.utoronto.ca',\n",
       " 'e.shirali@mail.utoronto.ca',\n",
       " 'romaisa.irfan@mail.utoronto.ca',\n",
       " 'achchuthan.suthakaran@mail.utoronto.ca',\n",
       " 'jack.burger@mail.utoronto.ca',\n",
       " 'kaynaat.abrar@mail.utoronto.ca',\n",
       " 'n.zegas8@gmail.com',\n",
       " 'jude.sy@mail.utoronto.ca',\n",
       " 'shenmin.dai@mail.utoronto.ca',\n",
       " 'sindujasundar85@gmail.com',\n",
       " 'ahmedsolangi7868@gmail.com',\n",
       " 'budhramshivanie@gmail.com',\n",
       " 'p.raimo@mail.utoronto.ca',\n",
       " 'mariko.nakanishi@mail.utoronto.ca',\n",
       " 'ana.botelho.leal@gmail.com',\n",
       " 'melany.wang@mail.utoronto.ca',\n",
       " 'stephanielt.chan@mail.utoronto.ca',\n",
       " 'hiba.mohammed@mail.utoronto.ca',\n",
       " 'khyati.chhabra@mail.utoronto.ca',\n",
       " 'taseen.syed@mail.utoronto.ca',\n",
       " 'Xai.brown@mail.utoronto.ca',\n",
       " 'sabrina.seecoomar@mail.utoronto.ca',\n",
       " 'preya4541@gmail.com',\n",
       " 'arabi.mahanujam@mail.utoronto.ca',\n",
       " 'zawad.khanmajlish@mail.utoronto.ca',\n",
       " 'jasongahjun.yee@mail.utoronto.ca']"
      ]
     },
     "execution_count": 16,
     "metadata": {},
     "output_type": "execute_result"
    }
   ],
   "source": [
    "df = qualtrics.loc[(qualtrics.retest_app_select_4=='1') & (qualtrics.Progress==100)]\n",
    "emailed = list(df.retest_app_email.dropna().drop_duplicates())"
   ]
  },
  {
   "cell_type": "markdown",
   "metadata": {},
   "source": [
    "## Missing Qualtrics"
   ]
  },
  {
   "cell_type": "markdown",
   "metadata": {},
   "source": [
    "Who of new sign up has completed the qualtrics survey"
   ]
  },
  {
   "cell_type": "code",
   "execution_count": 107,
   "metadata": {},
   "outputs": [],
   "source": [
    "complete = qualtrics.loc[qualtrics.Progress==100]"
   ]
  },
  {
   "cell_type": "code",
   "execution_count": 108,
   "metadata": {},
   "outputs": [],
   "source": [
    "complete = complete.studentNumber.dropna().drop_duplicates()"
   ]
  },
  {
   "cell_type": "code",
   "execution_count": 123,
   "metadata": {},
   "outputs": [],
   "source": [
    "\n",
    "run2 = [\n",
    "        1009159189,\n",
    "        1008786262,\n",
    "        1008896964,\n",
    "        1009157305,\n",
    "        1009408240,\n",
    "        1008996357,\n",
    "        1008966996,\n",
    "        1009092839,\n",
    "        1009613722,\n",
    "        1009329745,\n",
    "        1009404823,\n",
    "        1009397779,\n",
    "        1008411657,\n",
    "        1009271217,\n",
    "        1009706999,\n",
    "        1006740270,\n",
    "        1009400042,\n",
    "        1006454052,\n",
    "        1009338183,\n",
    "        1007728309,\n",
    "        1008834585,\n",
    "        1009368505,\n",
    "        1008968663,\n",
    "        1008999577,\n",
    "        1009008770,\n",
    "        1009414288,\n",
    "        1009540221,\n",
    "        1009264136,\n",
    "        1008598466,\n",
    "        1009264314,\n",
    "        1009487431,\n",
    "        1008916327,\n",
    "        1009434435,\n",
    "        1008926325,\n",
    "        1009098502,\n",
    "        1009389421,\n",
    "        1008821438,\n",
    "        1009189207,\n",
    "        1008896795,\n",
    "        1008166048,\n",
    "        1008836609,\n",
    "        1007419312,\n",
    "        1009613107,\n",
    "        1009250221,\n",
    "        1008949738,\n",
    "        1009631855,\n",
    "        1009555893,\n",
    "        1008972248,\n",
    "        1008912456,\n",
    "        1008062711,\n",
    "        1008846563,\n",
    "        1009387539,\n",
    "        1009100688,\n",
    "        1009028598,\n",
    "        1009159198,\n",
    "        1007008523,\n",
    "        1007810727,\n",
    "        1009189227,\n",
    "        1009634059,\n",
    "        1009261656,\n",
    "        109399964,\n",
    "        1008728744,\n",
    "        1009075251,\n",
    "        1008801209,\n",
    "        1009297397,\n",
    "        1009106174,\n",
    "        1009520537,\n",
    "        1009284588,\n",
    "        1009397984,\n",
    "        1009524070,\n",
    "        1009126170,\n",
    "        1009156155,\n",
    "        1009429272,\n",
    "        1009410219,\n",
    "        1009573169,\n",
    "        1009127366,\n",
    "        1009488127,\n",
    "        1008900851,\n",
    "        1008823579,\n",
    "        1008756534,\n",
    "        1009066779,\n",
    "        1009290688,\n",
    "        998435279,\n",
    "        1009319113,\n",
    "        1008464476,\n",
    "        1009746660,\n",
    "        1008258966\n",
    "]"
   ]
  },
  {
   "cell_type": "code",
   "execution_count": 124,
   "metadata": {},
   "outputs": [
    {
     "data": {
      "text/plain": [
       "1008786262"
      ]
     },
     "execution_count": 124,
     "metadata": {},
     "output_type": "execute_result"
    }
   ],
   "source": [
    "run2[1]"
   ]
  },
  {
   "cell_type": "code",
   "execution_count": 125,
   "metadata": {},
   "outputs": [
    {
     "data": {
      "text/plain": [
       "array([ True,  True,  True,  True,  True,  True,  True,  True,  True,\n",
       "        True,  True,  True,  True,  True,  True,  True,  True,  True,\n",
       "        True,  True,  True,  True,  True,  True,  True,  True,  True,\n",
       "        True,  True,  True,  True,  True,  True,  True, False,  True,\n",
       "        True, False,  True,  True,  True,  True,  True,  True,  True,\n",
       "        True,  True,  True,  True,  True,  True,  True,  True,  True,\n",
       "        True,  True,  True,  True, False,  True, False,  True,  True,\n",
       "        True,  True,  True,  True,  True,  True,  True,  True,  True,\n",
       "        True,  True,  True,  True,  True,  True,  True,  True,  True,\n",
       "        True,  True,  True,  True,  True,  True])"
      ]
     },
     "execution_count": 125,
     "metadata": {},
     "output_type": "execute_result"
    }
   ],
   "source": [
    "np.isin(run2, complete)"
   ]
  },
  {
   "cell_type": "code",
   "execution_count": 126,
   "metadata": {},
   "outputs": [
    {
     "data": {
      "text/plain": [
       "[34, 37, 58, 60]"
      ]
     },
     "execution_count": 126,
     "metadata": {},
     "output_type": "execute_result"
    }
   ],
   "source": [
    "list(np.where(~np.isin(run2, complete))[0])"
   ]
  },
  {
   "cell_type": "code",
   "execution_count": 127,
   "metadata": {},
   "outputs": [],
   "source": [
    "indices = list(np.where(~np.isin(run2, complete))[0])\n",
    "\n",
    "noQualtrics = [run2[index] for index in indices]"
   ]
  },
  {
   "cell_type": "code",
   "execution_count": 128,
   "metadata": {},
   "outputs": [
    {
     "data": {
      "text/plain": [
       "[1009098502, 1009189207, 1009634059, 109399964]"
      ]
     },
     "execution_count": 128,
     "metadata": {},
     "output_type": "execute_result"
    }
   ],
   "source": [
    "noQualtrics"
   ]
  },
  {
   "cell_type": "code",
   "execution_count": 129,
   "metadata": {},
   "outputs": [
    {
     "name": "stdout",
     "output_type": "stream",
     "text": [
      "[]\n"
     ]
    }
   ],
   "source": [
    "# duplicate subjects?\n",
    "\n",
    "duplicates = [number for number in run2 if run2.count(number) > 1]\n",
    "unique_duplicates = list(set(duplicates))\n",
    "\n",
    "print(unique_duplicates)"
   ]
  }
 ],
 "metadata": {
  "kernelspec": {
   "display_name": "Python 3",
   "language": "python",
   "name": "python3"
  },
  "language_info": {
   "codemirror_mode": {
    "name": "ipython",
    "version": 3
   },
   "file_extension": ".py",
   "mimetype": "text/x-python",
   "name": "python",
   "nbconvert_exporter": "python",
   "pygments_lexer": "ipython3",
   "version": "3.8.3"
  }
 },
 "nbformat": 4,
 "nbformat_minor": 4
}
