{
 "cells": [
  {
   "cell_type": "markdown",
   "metadata": {},
   "source": [
    "# Imports"
   ]
  },
  {
   "cell_type": "code",
   "execution_count": 1,
   "metadata": {},
   "outputs": [],
   "source": [
    "import pandas as pd\n",
    "import numpy as np\n",
    "import zipfile\n",
    "import glob\n",
    "import os"
   ]
  },
  {
   "cell_type": "code",
   "execution_count": 2,
   "metadata": {},
   "outputs": [],
   "source": [
    "# gfx\n",
    "import seaborn as sns\n",
    "import matplotlib.pyplot as plt\n",
    "\n",
    "# maps\n",
    "import descartes\n",
    "import geopandas as gpd\n",
    "from shapely.geometry import Point, Polygon\n",
    "\n",
    "%matplotlib inline"
   ]
  },
  {
   "cell_type": "markdown",
   "metadata": {},
   "source": [
    "# Import Data"
   ]
  },
  {
   "cell_type": "code",
   "execution_count": 257,
   "metadata": {},
   "outputs": [],
   "source": [
    "# path to RKStudio exported data\n",
    "file_path = \"/Users/djw/Documents/pCloud_synced/Academics/Projects/2020_thesis/thesis_experiments/3_experiments/3_1_gap_measure/3_1_1_raw_data/testing\""
   ]
  },
  {
   "cell_type": "code",
   "execution_count": 258,
   "metadata": {},
   "outputs": [],
   "source": [
    "# create empty dictionary\n",
    "app_data = {}\n",
    "\n",
    "# create list of zip files\n",
    "data_files = glob.glob(f'{file_path}/*.zip')\n",
    "data_files.sort(reverse=True)\n",
    "# move the first entry to the end as it has slighlty different syntax\n",
    "data_files = data_files[1:]+data_files[0:1]\n",
    "\n",
    "# extract all csv files from zip\n",
    "for zip_file in data_files:\n",
    "    zf = zipfile.ZipFile(zip_file)\n",
    "\n",
    "    # list of .csv files in zip\n",
    "    file_names = zf.namelist()\n",
    "\n",
    "    # loop through .csv files\n",
    "    for file in file_names:\n",
    "        try:\n",
    "            df = pd.read_csv(zf.open(file), parse_dates=True)\n",
    "            # clean up filename to use as key\n",
    "            sep = '_'\n",
    "            file = file.replace('.', '_')\n",
    "            file = file.split(sep,1)[0]\n",
    "\n",
    "        except pd.errors.EmptyDataError:\n",
    "            print(f'Note: {file} was empty. Skipping.')\n",
    "            continue # will skip the rest of the block and move to next file\n",
    "        \n",
    "        try:\n",
    "            app_data[file] = app_data[file].append(df, ignore_index=True)\n",
    "        except KeyError:\n",
    "            app_data[file] = df"
   ]
  },
  {
   "cell_type": "code",
   "execution_count": 6,
   "metadata": {},
   "outputs": [
    {
     "data": {
      "text/plain": [
       "dict_keys(['SurveyResults', 'SurveyStepResults', 'SurveyQuestionResults', 'SurveyConsentSignatureResults', 'StudyParticipants', 'Manifest'])"
      ]
     },
     "execution_count": 6,
     "metadata": {},
     "output_type": "execute_result"
    }
   ],
   "source": [
    "app_data.keys()"
   ]
  },
  {
   "cell_type": "markdown",
   "metadata": {},
   "source": [
    "# Data Clean"
   ]
  },
  {
   "cell_type": "markdown",
   "metadata": {},
   "source": [
    "## Note"
   ]
  },
  {
   "cell_type": "markdown",
   "metadata": {},
   "source": [
    "Feature columns should be correct as of **March 9, 2021**\n",
    "\n",
    "---"
   ]
  },
  {
   "cell_type": "markdown",
   "metadata": {},
   "source": [
    "**DateTime** is in [ISO 8601 format](https://en.wikipedia.org/wiki/ISO_8601)\n",
    "- e.g. `2021-03-05T13:53:52+00:00`\n",
    "- the +/- offset refers to `UTC`\n",
    "- but the time is CORRECT for local time\n",
    "- looks like it was originally created using:\n",
    "\n",
    "```\n",
    "# UTC to ISO 8601 with Local TimeZone information without microsecond (Python 3):\n",
    "\n",
    "import datetime\n",
    "datetime.datetime.now().astimezone().replace(microsecond=0).isoformat()\n",
    ">>> 2020-03-20T14:31:43+13:00\n",
    "```\n",
    "---\n",
    "\n",
    "**File Names** are:"
   ]
  },
  {
   "cell_type": "code",
   "execution_count": 5,
   "metadata": {},
   "outputs": [
    {
     "data": {
      "text/plain": [
       "['AuxiliaryData',\n",
       " 'AppleLocationVisits',\n",
       " 'HealthKitCharacteristics',\n",
       " 'Notifications',\n",
       " 'StudyParticipants',\n",
       " 'SurveyResults',\n",
       " 'SurveyStepResults',\n",
       " 'SurveyQuestionResults',\n",
       " 'SurveyConsentSignatureResults',\n",
       " 'SurveyStroopResults',\n",
       " 'SurveyTrailmakingResults',\n",
       " 'SurveyTasks',\n",
       " 'HealthKitSamples',\n",
       " 'Manifest']"
      ]
     },
     "execution_count": 5,
     "metadata": {},
     "output_type": "execute_result"
    }
   ],
   "source": [
    "list(app_data.keys())"
   ]
  },
  {
   "cell_type": "markdown",
   "metadata": {},
   "source": [
    "## Add Date\n",
    "Add a year/month day for each row"
   ]
  },
  {
   "cell_type": "code",
   "execution_count": 86,
   "metadata": {},
   "outputs": [
    {
     "name": "stderr",
     "output_type": "stream",
     "text": [
      "<ipython-input-86-d46327fc2ed5>:2: SettingWithCopyWarning: \n",
      "A value is trying to be set on a copy of a slice from a DataFrame.\n",
      "Try using .loc[row_indexer,col_indexer] = value instead\n",
      "\n",
      "See the caveats in the documentation: https://pandas.pydata.org/pandas-docs/stable/user_guide/indexing.html#returning-a-view-versus-a-copy\n",
      "  df['Date'] = pd.to_datetime(df.StartDate, format= '%Y-%m-%d').dt.date\n"
     ]
    }
   ],
   "source": [
    "# NOT YET IMPLEMENTED\n",
    "\n",
    "# Add date\n",
    "df['Date'] = pd.to_datetime(df.StartDate, format= '%Y-%m-%d').dt.date\n",
    "\n",
    "# Alt (not tested)\n",
    "df.assign(Date=lambda x: pd.to_datetime(x.StartDate, format= '%Y-%m-%d').dt.date)"
   ]
  },
  {
   "cell_type": "markdown",
   "metadata": {},
   "source": [
    "# Explore Data"
   ]
  },
  {
   "cell_type": "markdown",
   "metadata": {},
   "source": [
    "## Participants"
   ]
  },
  {
   "cell_type": "code",
   "execution_count": 259,
   "metadata": {},
   "outputs": [
    {
     "data": {
      "text/html": [
       "<div>\n",
       "<style scoped>\n",
       "    .dataframe tbody tr th:only-of-type {\n",
       "        vertical-align: middle;\n",
       "    }\n",
       "\n",
       "    .dataframe tbody tr th {\n",
       "        vertical-align: top;\n",
       "    }\n",
       "\n",
       "    .dataframe thead th {\n",
       "        text-align: right;\n",
       "    }\n",
       "</style>\n",
       "<table border=\"1\" class=\"dataframe\">\n",
       "  <thead>\n",
       "    <tr style=\"text-align: right;\">\n",
       "      <th></th>\n",
       "      <th>ParticipantIdentifier</th>\n",
       "      <th>GlobalKey</th>\n",
       "      <th>EmailAddress</th>\n",
       "      <th>FirstName</th>\n",
       "      <th>LastName</th>\n",
       "      <th>Gender</th>\n",
       "      <th>DateOfBirth</th>\n",
       "      <th>SecondaryIdentifier</th>\n",
       "      <th>PostalCode</th>\n",
       "      <th>EnrollmentDate</th>\n",
       "      <th>EventDates</th>\n",
       "      <th>CustomFields</th>\n",
       "    </tr>\n",
       "  </thead>\n",
       "  <tbody>\n",
       "    <tr>\n",
       "      <th>0</th>\n",
       "      <td>a81e5b0b-8277-499d-ad31-5f2b266e077b</td>\n",
       "      <td>0047d3d6-0474-eb11-aaa6-0afb9334277d</td>\n",
       "      <td>jacob.koudys@mail.utoronto.ca</td>\n",
       "      <td>Jacob</td>\n",
       "      <td>Koudys</td>\n",
       "      <td>NaN</td>\n",
       "      <td>NaN</td>\n",
       "      <td>NaN</td>\n",
       "      <td>NaN</td>\n",
       "      <td>2021-02-21T05:25:28Z</td>\n",
       "      <td>{}</td>\n",
       "      <td>{\"ideal_3\":\"Caring \",\"ideal_4\":\"Consistent\",\"o...</td>\n",
       "    </tr>\n",
       "    <tr>\n",
       "      <th>1</th>\n",
       "      <td>0eb208dd-de30-42e9-a7a1-a64923a8068c</td>\n",
       "      <td>0edbf7ab-0c81-eb11-aaa6-0afb9334277d</td>\n",
       "      <td>yoelinbar@gmail.com</td>\n",
       "      <td>Yoel</td>\n",
       "      <td>Inbar</td>\n",
       "      <td>NaN</td>\n",
       "      <td>NaN</td>\n",
       "      <td>NaN</td>\n",
       "      <td>NaN</td>\n",
       "      <td>2021-03-09T19:23:00Z</td>\n",
       "      <td>{}</td>\n",
       "      <td>{}</td>\n",
       "    </tr>\n",
       "    <tr>\n",
       "      <th>2</th>\n",
       "      <td>e668ab43-b5a6-4466-a71a-9a8bd1109a0f</td>\n",
       "      <td>3b626652-4e75-eb11-aaa6-0afb9334277d</td>\n",
       "      <td>azadeh.haji@utoronto.ca</td>\n",
       "      <td>Azadeh</td>\n",
       "      <td>HajiHosseini</td>\n",
       "      <td>NaN</td>\n",
       "      <td>NaN</td>\n",
       "      <td>NaN</td>\n",
       "      <td>NaN</td>\n",
       "      <td>2021-03-07T23:23:16Z</td>\n",
       "      <td>{}</td>\n",
       "      <td>{\"ideal_4\":\"composed\",\"ideal_1\":\"Confident\",\"o...</td>\n",
       "    </tr>\n",
       "    <tr>\n",
       "      <th>3</th>\n",
       "      <td>20830401-bf21-47da-a36c-1090c5fe09c7</td>\n",
       "      <td>3fb63633-3575-eb11-aaa6-0afb9334277d</td>\n",
       "      <td>mostafa.miandari@gmail.com</td>\n",
       "      <td>Mostafa</td>\n",
       "      <td>Miandari</td>\n",
       "      <td>NaN</td>\n",
       "      <td>NaN</td>\n",
       "      <td>NaN</td>\n",
       "      <td>NaN</td>\n",
       "      <td>2021-02-22T18:05:06Z</td>\n",
       "      <td>{}</td>\n",
       "      <td>{}</td>\n",
       "    </tr>\n",
       "    <tr>\n",
       "      <th>4</th>\n",
       "      <td>4c13fc48-f5c6-4f43-9794-e17b6c22608a</td>\n",
       "      <td>5cb14535-9773-eb11-aaa6-0afb9334277d</td>\n",
       "      <td>yang.teoh@mail.utoronto.ca</td>\n",
       "      <td>Yang</td>\n",
       "      <td>Teoh</td>\n",
       "      <td>NaN</td>\n",
       "      <td>NaN</td>\n",
       "      <td>NaN</td>\n",
       "      <td>NaN</td>\n",
       "      <td>2021-02-25T19:01:46Z</td>\n",
       "      <td>{}</td>\n",
       "      <td>{\"ought_3\":\"compassionate\",\"ideal_2\":\"conscien...</td>\n",
       "    </tr>\n",
       "    <tr>\n",
       "      <th>5</th>\n",
       "      <td>fcc53a2c-1e99-4ee2-9981-533607134644</td>\n",
       "      <td>7ffa0809-6b65-eb11-aaa4-0afb9334277d</td>\n",
       "      <td>medialpfc@gmail.com</td>\n",
       "      <td>Cendri</td>\n",
       "      <td>Hutcherson</td>\n",
       "      <td>NaN</td>\n",
       "      <td>NaN</td>\n",
       "      <td>NaN</td>\n",
       "      <td>NaN</td>\n",
       "      <td>2021-02-19T04:41:52Z</td>\n",
       "      <td>{}</td>\n",
       "      <td>{\"ideal_2\":\"Caring\",\"ideal_1\":\"Efficient\",\"oug...</td>\n",
       "    </tr>\n",
       "    <tr>\n",
       "      <th>6</th>\n",
       "      <td>63080c8b-e17b-40f5-a55c-2e3a1da0a34a</td>\n",
       "      <td>3bc85552-9a85-eb11-aaa6-0afb9334277d</td>\n",
       "      <td>andyjh.kim@mail.utoronto.ca</td>\n",
       "      <td>Andy</td>\n",
       "      <td>Kim</td>\n",
       "      <td>NaN</td>\n",
       "      <td>NaN</td>\n",
       "      <td>NaN</td>\n",
       "      <td>NaN</td>\n",
       "      <td>2021-03-15T15:21:22Z</td>\n",
       "      <td>{}</td>\n",
       "      <td>{\"ideal_2\":\"Adventurous\",\"ideal_3\":\"diligent\",...</td>\n",
       "    </tr>\n",
       "    <tr>\n",
       "      <th>7</th>\n",
       "      <td>48700346-4b87-4354-b02d-65182b3a89ab</td>\n",
       "      <td>851607b3-6775-eb11-aaa6-0afb9334277d</td>\n",
       "      <td>hauselin@gmail.com</td>\n",
       "      <td>Hause</td>\n",
       "      <td>Lin</td>\n",
       "      <td>NaN</td>\n",
       "      <td>NaN</td>\n",
       "      <td>NaN</td>\n",
       "      <td>NaN</td>\n",
       "      <td>2021-02-22T23:44:54Z</td>\n",
       "      <td>{}</td>\n",
       "      <td>{\"ideal_5\":\"ambitious\",\"ideal_2\":\"Conscientiou...</td>\n",
       "    </tr>\n",
       "    <tr>\n",
       "      <th>8</th>\n",
       "      <td>9149b9bc-a081-4aa2-8362-ea09a733a0b5</td>\n",
       "      <td>598d6735-9465-eb11-aaa4-0afb9334277d</td>\n",
       "      <td>dw@danieljwilson.com</td>\n",
       "      <td>Daniel</td>\n",
       "      <td>Wilson</td>\n",
       "      <td>NaN</td>\n",
       "      <td>NaN</td>\n",
       "      <td>NaN</td>\n",
       "      <td>NaN</td>\n",
       "      <td>2021-02-19T15:38:05Z</td>\n",
       "      <td>{}</td>\n",
       "      <td>{\"ideal_4\":\"brilliant\",\"ideal_2\":\"Creative\",\"o...</td>\n",
       "    </tr>\n",
       "    <tr>\n",
       "      <th>9</th>\n",
       "      <td>29c9f028-14cc-4973-b236-b58811d13fae</td>\n",
       "      <td>474b59b8-3580-eb11-aaa6-0afb9334277d</td>\n",
       "      <td>vic.oldemburgo@gmail.com</td>\n",
       "      <td>Victoria</td>\n",
       "      <td>Oldemburgo</td>\n",
       "      <td>NaN</td>\n",
       "      <td>NaN</td>\n",
       "      <td>NaN</td>\n",
       "      <td>NaN</td>\n",
       "      <td>2021-03-08T17:46:57Z</td>\n",
       "      <td>{}</td>\n",
       "      <td>{\"ought_2\":\"a \\\"good wife\\\" - who cooks well, ...</td>\n",
       "    </tr>\n",
       "    <tr>\n",
       "      <th>10</th>\n",
       "      <td>fb0dedbd-5c47-45f3-8108-b1510105858c</td>\n",
       "      <td>707f27f0-c873-eb11-aaa6-0afb9334277d</td>\n",
       "      <td>hannah.hyuna.cho@gmail.com</td>\n",
       "      <td>Hannah</td>\n",
       "      <td>Cho</td>\n",
       "      <td>NaN</td>\n",
       "      <td>NaN</td>\n",
       "      <td>NaN</td>\n",
       "      <td>NaN</td>\n",
       "      <td>2021-02-20T22:17:03Z</td>\n",
       "      <td>{}</td>\n",
       "      <td>{\"ought_5\":\"ambitious\",\"ideal_1\":\"dependable\",...</td>\n",
       "    </tr>\n",
       "  </tbody>\n",
       "</table>\n",
       "</div>"
      ],
      "text/plain": [
       "                   ParticipantIdentifier  \\\n",
       "0   a81e5b0b-8277-499d-ad31-5f2b266e077b   \n",
       "1   0eb208dd-de30-42e9-a7a1-a64923a8068c   \n",
       "2   e668ab43-b5a6-4466-a71a-9a8bd1109a0f   \n",
       "3   20830401-bf21-47da-a36c-1090c5fe09c7   \n",
       "4   4c13fc48-f5c6-4f43-9794-e17b6c22608a   \n",
       "5   fcc53a2c-1e99-4ee2-9981-533607134644   \n",
       "6   63080c8b-e17b-40f5-a55c-2e3a1da0a34a   \n",
       "7   48700346-4b87-4354-b02d-65182b3a89ab   \n",
       "8   9149b9bc-a081-4aa2-8362-ea09a733a0b5   \n",
       "9   29c9f028-14cc-4973-b236-b58811d13fae   \n",
       "10  fb0dedbd-5c47-45f3-8108-b1510105858c   \n",
       "\n",
       "                               GlobalKey                   EmailAddress  \\\n",
       "0   0047d3d6-0474-eb11-aaa6-0afb9334277d  jacob.koudys@mail.utoronto.ca   \n",
       "1   0edbf7ab-0c81-eb11-aaa6-0afb9334277d            yoelinbar@gmail.com   \n",
       "2   3b626652-4e75-eb11-aaa6-0afb9334277d        azadeh.haji@utoronto.ca   \n",
       "3   3fb63633-3575-eb11-aaa6-0afb9334277d     mostafa.miandari@gmail.com   \n",
       "4   5cb14535-9773-eb11-aaa6-0afb9334277d     yang.teoh@mail.utoronto.ca   \n",
       "5   7ffa0809-6b65-eb11-aaa4-0afb9334277d            medialpfc@gmail.com   \n",
       "6   3bc85552-9a85-eb11-aaa6-0afb9334277d    andyjh.kim@mail.utoronto.ca   \n",
       "7   851607b3-6775-eb11-aaa6-0afb9334277d             hauselin@gmail.com   \n",
       "8   598d6735-9465-eb11-aaa4-0afb9334277d           dw@danieljwilson.com   \n",
       "9   474b59b8-3580-eb11-aaa6-0afb9334277d       vic.oldemburgo@gmail.com   \n",
       "10  707f27f0-c873-eb11-aaa6-0afb9334277d     hannah.hyuna.cho@gmail.com   \n",
       "\n",
       "   FirstName      LastName  Gender  DateOfBirth  SecondaryIdentifier  \\\n",
       "0      Jacob        Koudys     NaN          NaN                  NaN   \n",
       "1       Yoel         Inbar     NaN          NaN                  NaN   \n",
       "2     Azadeh  HajiHosseini     NaN          NaN                  NaN   \n",
       "3    Mostafa      Miandari     NaN          NaN                  NaN   \n",
       "4       Yang          Teoh     NaN          NaN                  NaN   \n",
       "5     Cendri    Hutcherson     NaN          NaN                  NaN   \n",
       "6       Andy           Kim     NaN          NaN                  NaN   \n",
       "7      Hause           Lin     NaN          NaN                  NaN   \n",
       "8     Daniel        Wilson     NaN          NaN                  NaN   \n",
       "9   Victoria    Oldemburgo     NaN          NaN                  NaN   \n",
       "10    Hannah           Cho     NaN          NaN                  NaN   \n",
       "\n",
       "    PostalCode        EnrollmentDate EventDates  \\\n",
       "0          NaN  2021-02-21T05:25:28Z         {}   \n",
       "1          NaN  2021-03-09T19:23:00Z         {}   \n",
       "2          NaN  2021-03-07T23:23:16Z         {}   \n",
       "3          NaN  2021-02-22T18:05:06Z         {}   \n",
       "4          NaN  2021-02-25T19:01:46Z         {}   \n",
       "5          NaN  2021-02-19T04:41:52Z         {}   \n",
       "6          NaN  2021-03-15T15:21:22Z         {}   \n",
       "7          NaN  2021-02-22T23:44:54Z         {}   \n",
       "8          NaN  2021-02-19T15:38:05Z         {}   \n",
       "9          NaN  2021-03-08T17:46:57Z         {}   \n",
       "10         NaN  2021-02-20T22:17:03Z         {}   \n",
       "\n",
       "                                         CustomFields  \n",
       "0   {\"ideal_3\":\"Caring \",\"ideal_4\":\"Consistent\",\"o...  \n",
       "1                                                  {}  \n",
       "2   {\"ideal_4\":\"composed\",\"ideal_1\":\"Confident\",\"o...  \n",
       "3                                                  {}  \n",
       "4   {\"ought_3\":\"compassionate\",\"ideal_2\":\"conscien...  \n",
       "5   {\"ideal_2\":\"Caring\",\"ideal_1\":\"Efficient\",\"oug...  \n",
       "6   {\"ideal_2\":\"Adventurous\",\"ideal_3\":\"diligent\",...  \n",
       "7   {\"ideal_5\":\"ambitious\",\"ideal_2\":\"Conscientiou...  \n",
       "8   {\"ideal_4\":\"brilliant\",\"ideal_2\":\"Creative\",\"o...  \n",
       "9   {\"ought_2\":\"a \\\"good wife\\\" - who cooks well, ...  \n",
       "10  {\"ought_5\":\"ambitious\",\"ideal_1\":\"dependable\",...  "
      ]
     },
     "execution_count": 259,
     "metadata": {},
     "output_type": "execute_result"
    }
   ],
   "source": [
    "# Unique participants\n",
    "app_data['StudyParticipants'].drop_duplicates(subset='ParticipantIdentifier')"
   ]
  },
  {
   "cell_type": "markdown",
   "metadata": {},
   "source": [
    "# Surveys\n",
    "- SurveyQuestionResults_20210127-20210128.csv\n",
    "- SurveyResults_20210127-20210128.csv\n",
    "- SurveyStepResults_20210127-20210128.csv\n",
    "- SurveyTasks_20210127-20210128.csv"
   ]
  },
  {
   "cell_type": "code",
   "execution_count": 15,
   "metadata": {},
   "outputs": [
    {
     "data": {
      "text/plain": [
       "dict_keys(['SurveyResults', 'SurveyStepResults', 'SurveyQuestionResults', 'SurveyConsentSignatureResults', 'StudyParticipants', 'Manifest'])"
      ]
     },
     "execution_count": 15,
     "metadata": {},
     "output_type": "execute_result"
    }
   ],
   "source": [
    "app_data.keys()"
   ]
  },
  {
   "cell_type": "code",
   "execution_count": 271,
   "metadata": {},
   "outputs": [
    {
     "data": {
      "text/plain": [
       "array(['CONSENT_FLUENT_ENGLISH', 'CONSENT_IS_OVER_18',\n",
       "       'CONSENT_LIVES_IN_CANADA', 'CONSENT_STUDENT',\n",
       "       'IB_GAP_action_gap_day_actual', 'IB_GAP_action_gap_day_belief',\n",
       "       'IB_GAP_action_gap_month_actual', 'IB_GAP_action_gap_month_belief',\n",
       "       'IB_GAP_action_gap_style_goals_1',\n",
       "       'IB_GAP_action_gap_style_goals_2',\n",
       "       'IB_GAP_action_gap_style_goals_3',\n",
       "       'IB_GAP_action_gap_style_goals_4',\n",
       "       'IB_GAP_action_gap_style_planning_1',\n",
       "       'IB_GAP_action_gap_style_planning_2',\n",
       "       'IB_GAP_action_gap_week_actual', 'IB_GAP_action_gap_week_belief',\n",
       "       'IB_GAP_action_gap_year_actual', 'IB_GAP_action_gap_year_belief',\n",
       "       'IB_GAP_expectation_other', 'IB_GAP_expectation_own',\n",
       "       'IB_GAP_feedback_1', 'IB_GAP_feedback_2', 'IB_GAP_ideal_1',\n",
       "       'IB_GAP_ideal_1_actual', 'IB_GAP_ideal_1_potential',\n",
       "       'IB_GAP_ideal_2', 'IB_GAP_ideal_2_actual',\n",
       "       'IB_GAP_ideal_2_potential', 'IB_GAP_ideal_3',\n",
       "       'IB_GAP_ideal_3_actual', 'IB_GAP_ideal_3_potential',\n",
       "       'IB_GAP_ideal_4', 'IB_GAP_ideal_4_actual', 'IB_GAP_ideal_4_list',\n",
       "       'IB_GAP_ideal_4_potential', 'IB_GAP_ideal_5',\n",
       "       'IB_GAP_ideal_5_actual', 'IB_GAP_ideal_5_list',\n",
       "       'IB_GAP_ideal_5_potential', 'IB_GAP_intention_behavior_day_actual',\n",
       "       'IB_GAP_intention_behavior_day_belief',\n",
       "       'IB_GAP_intention_behavior_week_actual',\n",
       "       'IB_GAP_intention_behavior_week_belief',\n",
       "       'IB_GAP_intention_behavior_year_actual',\n",
       "       'IB_GAP_intention_behavior_year_belief', 'IB_GAP_meta_cause',\n",
       "       'IB_GAP_meta_expectation_own', 'IB_GAP_meta_overall_feeling',\n",
       "       'IB_GAP_meta_potential', 'IB_GAP_ought_1', 'IB_GAP_ought_1_actual',\n",
       "       'IB_GAP_ought_1_potential', 'IB_GAP_ought_2',\n",
       "       'IB_GAP_ought_2_actual', 'IB_GAP_ought_2_potential',\n",
       "       'IB_GAP_ought_3', 'IB_GAP_ought_3_actual',\n",
       "       'IB_GAP_ought_3_potential', 'IB_GAP_ought_4',\n",
       "       'IB_GAP_ought_4_actual', 'IB_GAP_ought_4_list',\n",
       "       'IB_GAP_ought_4_potential', 'IB_GAP_ought_5',\n",
       "       'IB_GAP_ought_5_actual', 'IB_GAP_ought_5_list',\n",
       "       'IB_GAP_ought_5_potential', 'IB_GAP_overall_feeling',\n",
       "       'IB_GAP_potential', 'IB_GAP_values_ideal_1',\n",
       "       'IB_GAP_values_ideal_1_actual', 'IB_GAP_values_ideal_1_potential',\n",
       "       'IB_GAP_values_ideal_2', 'IB_GAP_values_ideal_2_actual',\n",
       "       'IB_GAP_values_ideal_2_potential', 'IB_GAP_values_ideal_3',\n",
       "       'IB_GAP_values_ideal_3_actual', 'IB_GAP_values_ideal_3_potential',\n",
       "       'IB_GAP_values_ideal_4', 'IB_GAP_values_ideal_4_actual',\n",
       "       'IB_GAP_values_ideal_4_list', 'IB_GAP_values_ideal_4_potential',\n",
       "       'IB_GAP_values_ideal_5', 'IB_GAP_values_ideal_5_actual',\n",
       "       'IB_GAP_values_ideal_5_list', 'IB_GAP_values_ideal_5_potential',\n",
       "       'IB_GAP_values_ought_1', 'IB_GAP_values_ought_1_actual',\n",
       "       'IB_GAP_values_ought_1_potential', 'IB_GAP_values_ought_2',\n",
       "       'IB_GAP_values_ought_2_actual', 'IB_GAP_values_ought_2_potential',\n",
       "       'IB_GAP_values_ought_3', 'IB_GAP_values_ought_3_actual',\n",
       "       'IB_GAP_values_ought_3_potential', 'IB_GAP_values_ought_4',\n",
       "       'IB_GAP_values_ought_4_actual', 'IB_GAP_values_ought_4_list',\n",
       "       'IB_GAP_values_ought_4_potential', 'IB_GAP_values_ought_5',\n",
       "       'IB_GAP_values_ought_5_actual', 'IB_GAP_values_ought_5_list',\n",
       "       'IB_GAP_values_ought_5_potential',\n",
       "       'IB_GAP_values_overall_conflict', 'IB_GAP_values_overall_ideal',\n",
       "       'IB_GAP_values_overall_ought', 'IB_GAP_values_overall_overlap',\n",
       "       'IB_GAP_warm_up_animal', 'IB_GAP_warm_up_color',\n",
       "       'IB_GAP_warm_up_color_sure', 'IB_GAP_warm_up_food', 'New Step 51'],\n",
       "      dtype=object)"
      ]
     },
     "execution_count": 271,
     "metadata": {},
     "output_type": "execute_result"
    }
   ],
   "source": [
    "# categories include:\n",
    "np.unique(app_data['SurveyQuestionResults'].ResultIdentifier)"
   ]
  },
  {
   "cell_type": "code",
   "execution_count": 272,
   "metadata": {},
   "outputs": [
    {
     "data": {
      "text/html": [
       "<div>\n",
       "<style scoped>\n",
       "    .dataframe tbody tr th:only-of-type {\n",
       "        vertical-align: middle;\n",
       "    }\n",
       "\n",
       "    .dataframe tbody tr th {\n",
       "        vertical-align: top;\n",
       "    }\n",
       "\n",
       "    .dataframe thead th {\n",
       "        text-align: right;\n",
       "    }\n",
       "</style>\n",
       "<table border=\"1\" class=\"dataframe\">\n",
       "  <thead>\n",
       "    <tr style=\"text-align: right;\">\n",
       "      <th></th>\n",
       "      <th>SurveyQuestionResultKey</th>\n",
       "      <th>SurveyStepResultKey</th>\n",
       "      <th>SurveyResultKey</th>\n",
       "      <th>ParticipantIdentifier</th>\n",
       "      <th>ResultIdentifier</th>\n",
       "      <th>Answers</th>\n",
       "      <th>StartDate</th>\n",
       "      <th>EndDate</th>\n",
       "    </tr>\n",
       "  </thead>\n",
       "  <tbody>\n",
       "    <tr>\n",
       "      <th>0</th>\n",
       "      <td>c97cce16-a285-eb11-aaa6-0afb9334277d</td>\n",
       "      <td>bb7cce16-a285-eb11-aaa6-0afb9334277d</td>\n",
       "      <td>b27cce16-a285-eb11-aaa6-0afb9334277d</td>\n",
       "      <td>63080c8b-e17b-40f5-a55c-2e3a1da0a34a</td>\n",
       "      <td>CONSENT_IS_OVER_18</td>\n",
       "      <td>True</td>\n",
       "      <td>2021-03-15T11:18:45-04:00</td>\n",
       "      <td>2021-03-15T11:20:06-04:00</td>\n",
       "    </tr>\n",
       "    <tr>\n",
       "      <th>1</th>\n",
       "      <td>ca7cce16-a285-eb11-aaa6-0afb9334277d</td>\n",
       "      <td>bb7cce16-a285-eb11-aaa6-0afb9334277d</td>\n",
       "      <td>b27cce16-a285-eb11-aaa6-0afb9334277d</td>\n",
       "      <td>63080c8b-e17b-40f5-a55c-2e3a1da0a34a</td>\n",
       "      <td>CONSENT_LIVES_IN_CANADA</td>\n",
       "      <td>four_plus</td>\n",
       "      <td>2021-03-15T11:18:45-04:00</td>\n",
       "      <td>2021-03-15T11:20:06-04:00</td>\n",
       "    </tr>\n",
       "  </tbody>\n",
       "</table>\n",
       "</div>"
      ],
      "text/plain": [
       "                SurveyQuestionResultKey                   SurveyStepResultKey  \\\n",
       "0  c97cce16-a285-eb11-aaa6-0afb9334277d  bb7cce16-a285-eb11-aaa6-0afb9334277d   \n",
       "1  ca7cce16-a285-eb11-aaa6-0afb9334277d  bb7cce16-a285-eb11-aaa6-0afb9334277d   \n",
       "\n",
       "                        SurveyResultKey                 ParticipantIdentifier  \\\n",
       "0  b27cce16-a285-eb11-aaa6-0afb9334277d  63080c8b-e17b-40f5-a55c-2e3a1da0a34a   \n",
       "1  b27cce16-a285-eb11-aaa6-0afb9334277d  63080c8b-e17b-40f5-a55c-2e3a1da0a34a   \n",
       "\n",
       "          ResultIdentifier    Answers                  StartDate  \\\n",
       "0       CONSENT_IS_OVER_18       True  2021-03-15T11:18:45-04:00   \n",
       "1  CONSENT_LIVES_IN_CANADA  four_plus  2021-03-15T11:18:45-04:00   \n",
       "\n",
       "                     EndDate  \n",
       "0  2021-03-15T11:20:06-04:00  \n",
       "1  2021-03-15T11:20:06-04:00  "
      ]
     },
     "execution_count": 272,
     "metadata": {},
     "output_type": "execute_result"
    }
   ],
   "source": [
    "app_data['SurveyQuestionResults'].head(2)"
   ]
  },
  {
   "cell_type": "code",
   "execution_count": 275,
   "metadata": {},
   "outputs": [],
   "source": [
    "# select daily columns\n",
    "IB_col = [col for col in app_survey if col.startswith('IB_GAP')]"
   ]
  },
  {
   "cell_type": "code",
   "execution_count": 276,
   "metadata": {},
   "outputs": [
    {
     "data": {
      "text/html": [
       "<div>\n",
       "<style scoped>\n",
       "    .dataframe tbody tr th:only-of-type {\n",
       "        vertical-align: middle;\n",
       "    }\n",
       "\n",
       "    .dataframe tbody tr th {\n",
       "        vertical-align: top;\n",
       "    }\n",
       "\n",
       "    .dataframe thead th {\n",
       "        text-align: right;\n",
       "    }\n",
       "</style>\n",
       "<table border=\"1\" class=\"dataframe\">\n",
       "  <thead>\n",
       "    <tr style=\"text-align: right;\">\n",
       "      <th>ResultIdentifier</th>\n",
       "      <th>ParticipantIdentifier</th>\n",
       "      <th>Date</th>\n",
       "      <th>IB_GAP_action_gap_day_actual</th>\n",
       "      <th>IB_GAP_action_gap_day_belief</th>\n",
       "      <th>IB_GAP_action_gap_month_actual</th>\n",
       "      <th>IB_GAP_action_gap_month_belief</th>\n",
       "      <th>IB_GAP_action_gap_style_goals_1</th>\n",
       "      <th>IB_GAP_action_gap_style_goals_2</th>\n",
       "      <th>IB_GAP_action_gap_style_goals_3</th>\n",
       "      <th>IB_GAP_action_gap_style_goals_4</th>\n",
       "      <th>...</th>\n",
       "      <th>IB_GAP_values_ought_5_list</th>\n",
       "      <th>IB_GAP_values_ought_5_potential</th>\n",
       "      <th>IB_GAP_values_overall_conflict</th>\n",
       "      <th>IB_GAP_values_overall_ideal</th>\n",
       "      <th>IB_GAP_values_overall_ought</th>\n",
       "      <th>IB_GAP_values_overall_overlap</th>\n",
       "      <th>IB_GAP_warm_up_animal</th>\n",
       "      <th>IB_GAP_warm_up_color</th>\n",
       "      <th>IB_GAP_warm_up_color_sure</th>\n",
       "      <th>IB_GAP_warm_up_food</th>\n",
       "    </tr>\n",
       "  </thead>\n",
       "  <tbody>\n",
       "    <tr>\n",
       "      <th>0</th>\n",
       "      <td>0eb208dd-de30-42e9-a7a1-a64923a8068c</td>\n",
       "      <td>2021-03-09</td>\n",
       "      <td>NaN</td>\n",
       "      <td>NaN</td>\n",
       "      <td>NaN</td>\n",
       "      <td>NaN</td>\n",
       "      <td>NaN</td>\n",
       "      <td>NaN</td>\n",
       "      <td>NaN</td>\n",
       "      <td>NaN</td>\n",
       "      <td>...</td>\n",
       "      <td>NaN</td>\n",
       "      <td>NaN</td>\n",
       "      <td>NaN</td>\n",
       "      <td>NaN</td>\n",
       "      <td>NaN</td>\n",
       "      <td>NaN</td>\n",
       "      <td>NaN</td>\n",
       "      <td>NaN</td>\n",
       "      <td>NaN</td>\n",
       "      <td>NaN</td>\n",
       "    </tr>\n",
       "    <tr>\n",
       "      <th>1</th>\n",
       "      <td>20830401-bf21-47da-a36c-1090c5fe09c7</td>\n",
       "      <td>2021-02-22</td>\n",
       "      <td>NaN</td>\n",
       "      <td>NaN</td>\n",
       "      <td>NaN</td>\n",
       "      <td>NaN</td>\n",
       "      <td>NaN</td>\n",
       "      <td>NaN</td>\n",
       "      <td>NaN</td>\n",
       "      <td>NaN</td>\n",
       "      <td>...</td>\n",
       "      <td>NaN</td>\n",
       "      <td>NaN</td>\n",
       "      <td>NaN</td>\n",
       "      <td>NaN</td>\n",
       "      <td>NaN</td>\n",
       "      <td>NaN</td>\n",
       "      <td>NaN</td>\n",
       "      <td>NaN</td>\n",
       "      <td>NaN</td>\n",
       "      <td>NaN</td>\n",
       "    </tr>\n",
       "  </tbody>\n",
       "</table>\n",
       "<p>2 rows × 106 columns</p>\n",
       "</div>"
      ],
      "text/plain": [
       "ResultIdentifier                 ParticipantIdentifier        Date  \\\n",
       "0                 0eb208dd-de30-42e9-a7a1-a64923a8068c  2021-03-09   \n",
       "1                 20830401-bf21-47da-a36c-1090c5fe09c7  2021-02-22   \n",
       "\n",
       "ResultIdentifier IB_GAP_action_gap_day_actual IB_GAP_action_gap_day_belief  \\\n",
       "0                                         NaN                          NaN   \n",
       "1                                         NaN                          NaN   \n",
       "\n",
       "ResultIdentifier IB_GAP_action_gap_month_actual  \\\n",
       "0                                           NaN   \n",
       "1                                           NaN   \n",
       "\n",
       "ResultIdentifier IB_GAP_action_gap_month_belief  \\\n",
       "0                                           NaN   \n",
       "1                                           NaN   \n",
       "\n",
       "ResultIdentifier IB_GAP_action_gap_style_goals_1  \\\n",
       "0                                            NaN   \n",
       "1                                            NaN   \n",
       "\n",
       "ResultIdentifier IB_GAP_action_gap_style_goals_2  \\\n",
       "0                                            NaN   \n",
       "1                                            NaN   \n",
       "\n",
       "ResultIdentifier IB_GAP_action_gap_style_goals_3  \\\n",
       "0                                            NaN   \n",
       "1                                            NaN   \n",
       "\n",
       "ResultIdentifier IB_GAP_action_gap_style_goals_4  ...  \\\n",
       "0                                            NaN  ...   \n",
       "1                                            NaN  ...   \n",
       "\n",
       "ResultIdentifier IB_GAP_values_ought_5_list IB_GAP_values_ought_5_potential  \\\n",
       "0                                       NaN                             NaN   \n",
       "1                                       NaN                             NaN   \n",
       "\n",
       "ResultIdentifier IB_GAP_values_overall_conflict IB_GAP_values_overall_ideal  \\\n",
       "0                                           NaN                         NaN   \n",
       "1                                           NaN                         NaN   \n",
       "\n",
       "ResultIdentifier IB_GAP_values_overall_ought IB_GAP_values_overall_overlap  \\\n",
       "0                                        NaN                           NaN   \n",
       "1                                        NaN                           NaN   \n",
       "\n",
       "ResultIdentifier IB_GAP_warm_up_animal IB_GAP_warm_up_color  \\\n",
       "0                                  NaN                  NaN   \n",
       "1                                  NaN                  NaN   \n",
       "\n",
       "ResultIdentifier IB_GAP_warm_up_color_sure IB_GAP_warm_up_food  \n",
       "0                                      NaN                 NaN  \n",
       "1                                      NaN                 NaN  \n",
       "\n",
       "[2 rows x 106 columns]"
      ]
     },
     "execution_count": 276,
     "metadata": {},
     "output_type": "execute_result"
    }
   ],
   "source": [
    "app_survey = app_survey[['ParticipantIdentifier', 'Date'] + IB_col]\n",
    "app_survey.head(2)"
   ]
  },
  {
   "cell_type": "code",
   "execution_count": 277,
   "metadata": {},
   "outputs": [
    {
     "data": {
      "text/plain": [
       "<matplotlib.axes._subplots.AxesSubplot at 0x12de6b640>"
      ]
     },
     "execution_count": 277,
     "metadata": {},
     "output_type": "execute_result"
    },
    {
     "data": {
      "image/png": "[encoded data removed]",
      "text/plain": [
       "<Figure size 432x288 with 1 Axes>"
      ]
     },
     "metadata": {
      "needs_background": "light"
     },
     "output_type": "display_data"
    }
   ],
   "source": [
    "# how many values in each column\n",
    "app_survey.count().hist()"
   ]
  },
  {
   "cell_type": "markdown",
   "metadata": {},
   "source": [
    "## Action Gap"
   ]
  },
  {
   "cell_type": "code",
   "execution_count": 278,
   "metadata": {},
   "outputs": [
    {
     "data": {
      "text/html": [
       "<div>\n",
       "<style scoped>\n",
       "    .dataframe tbody tr th:only-of-type {\n",
       "        vertical-align: middle;\n",
       "    }\n",
       "\n",
       "    .dataframe tbody tr th {\n",
       "        vertical-align: top;\n",
       "    }\n",
       "\n",
       "    .dataframe thead th {\n",
       "        text-align: right;\n",
       "    }\n",
       "</style>\n",
       "<table border=\"1\" class=\"dataframe\">\n",
       "  <thead>\n",
       "    <tr style=\"text-align: right;\">\n",
       "      <th></th>\n",
       "      <th>IB_GAP_action_gap_day_actual</th>\n",
       "      <th>IB_GAP_action_gap_day_belief</th>\n",
       "      <th>IB_GAP_action_gap_month_actual</th>\n",
       "      <th>IB_GAP_action_gap_month_belief</th>\n",
       "      <th>IB_GAP_action_gap_style_goals_1</th>\n",
       "      <th>IB_GAP_action_gap_style_goals_2</th>\n",
       "      <th>IB_GAP_action_gap_style_goals_3</th>\n",
       "      <th>IB_GAP_action_gap_style_goals_4</th>\n",
       "      <th>IB_GAP_action_gap_style_planning_1</th>\n",
       "      <th>IB_GAP_action_gap_style_planning_2</th>\n",
       "      <th>IB_GAP_action_gap_week_actual</th>\n",
       "      <th>IB_GAP_action_gap_week_belief</th>\n",
       "      <th>IB_GAP_action_gap_year_actual</th>\n",
       "      <th>IB_GAP_action_gap_year_belief</th>\n",
       "    </tr>\n",
       "  </thead>\n",
       "  <tbody>\n",
       "    <tr>\n",
       "      <th>0</th>\n",
       "      <td>NaN</td>\n",
       "      <td>NaN</td>\n",
       "      <td>NaN</td>\n",
       "      <td>NaN</td>\n",
       "      <td>NaN</td>\n",
       "      <td>NaN</td>\n",
       "      <td>NaN</td>\n",
       "      <td>NaN</td>\n",
       "      <td>NaN</td>\n",
       "      <td>NaN</td>\n",
       "      <td>NaN</td>\n",
       "      <td>NaN</td>\n",
       "      <td>NaN</td>\n",
       "      <td>NaN</td>\n",
       "    </tr>\n",
       "    <tr>\n",
       "      <th>1</th>\n",
       "      <td>NaN</td>\n",
       "      <td>NaN</td>\n",
       "      <td>NaN</td>\n",
       "      <td>NaN</td>\n",
       "      <td>NaN</td>\n",
       "      <td>NaN</td>\n",
       "      <td>NaN</td>\n",
       "      <td>NaN</td>\n",
       "      <td>NaN</td>\n",
       "      <td>NaN</td>\n",
       "      <td>NaN</td>\n",
       "      <td>NaN</td>\n",
       "      <td>NaN</td>\n",
       "      <td>NaN</td>\n",
       "    </tr>\n",
       "    <tr>\n",
       "      <th>2</th>\n",
       "      <td>60.0</td>\n",
       "      <td>80.0</td>\n",
       "      <td>90.0</td>\n",
       "      <td>90.0</td>\n",
       "      <td>6.0</td>\n",
       "      <td>2.0</td>\n",
       "      <td>3.0</td>\n",
       "      <td>1.0</td>\n",
       "      <td>6.0</td>\n",
       "      <td>5.0</td>\n",
       "      <td>80.0</td>\n",
       "      <td>100.0</td>\n",
       "      <td>50.0</td>\n",
       "      <td>100.0</td>\n",
       "    </tr>\n",
       "  </tbody>\n",
       "</table>\n",
       "</div>"
      ],
      "text/plain": [
       "   IB_GAP_action_gap_day_actual  IB_GAP_action_gap_day_belief  \\\n",
       "0                           NaN                           NaN   \n",
       "1                           NaN                           NaN   \n",
       "2                          60.0                          80.0   \n",
       "\n",
       "   IB_GAP_action_gap_month_actual  IB_GAP_action_gap_month_belief  \\\n",
       "0                             NaN                             NaN   \n",
       "1                             NaN                             NaN   \n",
       "2                            90.0                            90.0   \n",
       "\n",
       "   IB_GAP_action_gap_style_goals_1  IB_GAP_action_gap_style_goals_2  \\\n",
       "0                              NaN                              NaN   \n",
       "1                              NaN                              NaN   \n",
       "2                              6.0                              2.0   \n",
       "\n",
       "   IB_GAP_action_gap_style_goals_3  IB_GAP_action_gap_style_goals_4  \\\n",
       "0                              NaN                              NaN   \n",
       "1                              NaN                              NaN   \n",
       "2                              3.0                              1.0   \n",
       "\n",
       "   IB_GAP_action_gap_style_planning_1  IB_GAP_action_gap_style_planning_2  \\\n",
       "0                                 NaN                                 NaN   \n",
       "1                                 NaN                                 NaN   \n",
       "2                                 6.0                                 5.0   \n",
       "\n",
       "   IB_GAP_action_gap_week_actual  IB_GAP_action_gap_week_belief  \\\n",
       "0                            NaN                            NaN   \n",
       "1                            NaN                            NaN   \n",
       "2                           80.0                          100.0   \n",
       "\n",
       "   IB_GAP_action_gap_year_actual  IB_GAP_action_gap_year_belief  \n",
       "0                            NaN                            NaN  \n",
       "1                            NaN                            NaN  \n",
       "2                           50.0                          100.0  "
      ]
     },
     "execution_count": 278,
     "metadata": {},
     "output_type": "execute_result"
    }
   ],
   "source": [
    "# select only action columns\n",
    "action_cols = app_survey.columns[app_survey.columns.str.contains('action_gap')]\n",
    "# action_df = app_survey[['ParticipantIdentifier', 'Date'] + list(action_cols)]\n",
    "\n",
    "# Cast strings to ints and nans\n",
    "action_df = action_df[action_cols].replace('NaN', np.nan).astype(float)\n",
    "action_df.columns.name = None\n",
    "action_df.head(3)"
   ]
  },
  {
   "cell_type": "code",
   "execution_count": 279,
   "metadata": {},
   "outputs": [],
   "source": [
    "action_time = action_df[['IB_GAP_action_gap_day_actual', 'IB_GAP_action_gap_day_belief',\n",
    "               'IB_GAP_action_gap_week_actual', 'IB_GAP_action_gap_week_belief',\n",
    "               'IB_GAP_action_gap_month_actual', 'IB_GAP_action_gap_month_belief',\n",
    "               'IB_GAP_action_gap_year_actual', 'IB_GAP_action_gap_year_belief']]\n",
    "\n",
    "action_style = action_df[['IB_GAP_action_gap_style_goals_1', 'IB_GAP_action_gap_style_goals_2',\n",
    "                'IB_GAP_action_gap_style_goals_3', 'IB_GAP_action_gap_style_goals_4',\n",
    "                'IB_GAP_action_gap_style_planning_1', 'IB_GAP_action_gap_style_planning_2']]"
   ]
  },
  {
   "cell_type": "code",
   "execution_count": 280,
   "metadata": {},
   "outputs": [],
   "source": [
    "# rename columns for legibility\n",
    "action_style = action_style.rename(columns={\"IB_GAP_action_gap_style_goals_1\": 'ambitious goals',\n",
    "                             \"IB_GAP_action_gap_style_goals_2\": 'extreme goals',\n",
    "                             'IB_GAP_action_gap_style_goals_3': 'changing goals',\n",
    "                             'IB_GAP_action_gap_style_goals_4': 'plan for contingencies',\n",
    "                             'IB_GAP_action_gap_style_planning_1': 'detailed planning',\n",
    "                             'IB_GAP_action_gap_style_planning_2': 'same schedule'\n",
    "                            })"
   ]
  },
  {
   "cell_type": "code",
   "execution_count": 281,
   "metadata": {},
   "outputs": [],
   "source": [
    "action_time = 100 - action_time.dropna()"
   ]
  },
  {
   "cell_type": "markdown",
   "metadata": {},
   "source": [
    "### Timeframe"
   ]
  },
  {
   "cell_type": "markdown",
   "metadata": {},
   "source": [
    "#### Plot"
   ]
  },
  {
   "cell_type": "code",
   "execution_count": 269,
   "metadata": {},
   "outputs": [
    {
     "data": {
      "text/plain": [
       "<matplotlib.axes._subplots.AxesSubplot at 0x12da3b370>"
      ]
     },
     "execution_count": 269,
     "metadata": {},
     "output_type": "execute_result"
    },
    {
     "data": {
      "image/png": "[encoded data removed]",
      "text/plain": [
       "<Figure size 1008x576 with 1 Axes>"
      ]
     },
     "metadata": {
      "needs_background": "light"
     },
     "output_type": "display_data"
    }
   ],
   "source": [
    "plt.figure(figsize=(14, 8))\n",
    "\n",
    "action_time.mean().plot.bar()"
   ]
  },
  {
   "cell_type": "markdown",
   "metadata": {},
   "source": [
    "#### Values"
   ]
  },
  {
   "cell_type": "code",
   "execution_count": 114,
   "metadata": {},
   "outputs": [
    {
     "name": "stdout",
     "output_type": "stream",
     "text": [
      "Actual gap: 35.83%\n",
      "Belief gap: 21.67%\n",
      "\n",
      "Actual-Belief gap: 14.17%\n",
      "\n"
     ]
    }
   ],
   "source": [
    "action_actual_gap = action_time[list(action_time.columns[action_time.columns.str.contains('actual')])].mean().mean()\n",
    "action_belief_gap = action_time[list(action_time.columns[action_time.columns.str.contains('belief')])].mean().mean()\n",
    "dif = action_actual_gap - action_belief_gap\n",
    "\n",
    "print('Actual gap: {:0.2f}%\\nBelief gap: {:0.2f}%\\n\\nActual-Belief gap: {:0.2f}%\\n'.format(action_actual_gap, action_belief_gap, dif))"
   ]
  },
  {
   "cell_type": "markdown",
   "metadata": {},
   "source": [
    "#### Correlation"
   ]
  },
  {
   "cell_type": "code",
   "execution_count": 119,
   "metadata": {},
   "outputs": [
    {
     "data": {
      "image/png": "[encoded data removed]",
      "text/plain": [
       "<Figure size 1152x1152 with 2 Axes>"
      ]
     },
     "metadata": {
      "needs_background": "light"
     },
     "output_type": "display_data"
    }
   ],
   "source": [
    "# correlation plot just for fun\n",
    "plt.figure(figsize=(16, 16))\n",
    "\n",
    "data = action_time\n",
    "\n",
    "corr = data.corr()\n",
    "ax = sns.heatmap(\n",
    "    corr, \n",
    "    vmin=-1, vmax=1, center=0,\n",
    "    cmap=sns.diverging_palette(20, 220, n=200),\n",
    "    square=True,\n",
    "    annot=True\n",
    ")\n",
    "ax.set_xticklabels(\n",
    "    ax.get_xticklabels(),\n",
    "    rotation=45,\n",
    "    horizontalalignment='right'\n",
    ");"
   ]
  },
  {
   "cell_type": "markdown",
   "metadata": {},
   "source": [
    "### Style\n",
    "\n",
    "[Link](https://docs.google.com/document/d/1v6dURzXTiGP5oiFSYRnPkTnYLjwdFbEZkTJyL-VZF6Y/edit#heading=h.id58br2r09hk\")"
   ]
  },
  {
   "cell_type": "markdown",
   "metadata": {},
   "source": [
    "#### Plot"
   ]
  },
  {
   "cell_type": "code",
   "execution_count": 127,
   "metadata": {},
   "outputs": [
    {
     "data": {
      "text/plain": [
       "<matplotlib.axes._subplots.AxesSubplot at 0x12e577b20>"
      ]
     },
     "execution_count": 127,
     "metadata": {},
     "output_type": "execute_result"
    },
    {
     "data": {
      "image/png": "[encoded data removed]",
      "text/plain": [
       "<Figure size 1008x576 with 1 Axes>"
      ]
     },
     "metadata": {
      "needs_background": "light"
     },
     "output_type": "display_data"
    }
   ],
   "source": [
    "plt.figure(figsize=(14, 8))\n",
    "\n",
    "action_style.mean().plot.bar()"
   ]
  },
  {
   "cell_type": "markdown",
   "metadata": {},
   "source": [
    "#### Values"
   ]
  },
  {
   "cell_type": "code",
   "execution_count": 128,
   "metadata": {},
   "outputs": [
    {
     "data": {
      "text/plain": [
       "ambitious goals           6.000000\n",
       "extreme goals             4.333333\n",
       "changing goals            4.333333\n",
       "plan for contingencies    2.000000\n",
       "detailed planning         5.000000\n",
       "same schedule             5.666667\n",
       "dtype: float64"
      ]
     },
     "execution_count": 128,
     "metadata": {},
     "output_type": "execute_result"
    }
   ],
   "source": [
    "action_style.mean()"
   ]
  },
  {
   "cell_type": "markdown",
   "metadata": {},
   "source": [
    "#### Correlation"
   ]
  },
  {
   "cell_type": "code",
   "execution_count": 129,
   "metadata": {},
   "outputs": [
    {
     "data": {
      "image/png": "[encoded data removed]",
      "text/plain": [
       "<Figure size 1152x1152 with 2 Axes>"
      ]
     },
     "metadata": {
      "needs_background": "light"
     },
     "output_type": "display_data"
    }
   ],
   "source": [
    "# correlation plot just for fun\n",
    "plt.figure(figsize=(16, 16))\n",
    "\n",
    "data = action_style\n",
    "\n",
    "corr = data.corr()\n",
    "ax = sns.heatmap(\n",
    "    corr, \n",
    "    vmin=-1, vmax=1, center=0,\n",
    "    cmap=sns.diverging_palette(20, 220, n=200),\n",
    "    square=True,\n",
    "    annot=True\n",
    ")\n",
    "ax.set_xticklabels(\n",
    "    ax.get_xticklabels(),\n",
    "    rotation=45,\n",
    "    horizontalalignment='right'\n",
    ");"
   ]
  },
  {
   "cell_type": "markdown",
   "metadata": {},
   "source": [
    "## Value Gap"
   ]
  },
  {
   "cell_type": "code",
   "execution_count": 176,
   "metadata": {},
   "outputs": [],
   "source": [
    "# select only action columns\n",
    "cols_potential = app_survey.columns[app_survey.columns.str.contains('potential')]\n",
    "cols_actual = app_survey.columns[app_survey.columns.str.contains('actual')]\n",
    "cols_overall =  app_survey.columns[app_survey.columns.str.contains('overall')][2:]\n",
    "\n",
    "values = app_survey[list(cols_potential) + list(cols_actual)]\n",
    "val_cols = values.columns[values.columns.str.contains('values')]\n",
    "values = values[list(val_cols)]\n",
    "\n",
    "values_overall = app_survey[list(cols_overall)]\n",
    "\n",
    "# get rid of index name\n",
    "values.columns.name = None\n",
    "values_overall.columns.name = None"
   ]
  },
  {
   "cell_type": "code",
   "execution_count": 177,
   "metadata": {},
   "outputs": [],
   "source": [
    "values = values.dropna().reset_index(drop=True)\n",
    "values_overall = values_overall.dropna().reset_index(drop=True)"
   ]
  },
  {
   "cell_type": "code",
   "execution_count": 185,
   "metadata": {},
   "outputs": [],
   "source": [
    "values = values.astype('int')"
   ]
  },
  {
   "cell_type": "code",
   "execution_count": 186,
   "metadata": {},
   "outputs": [],
   "source": [
    "values_gap = 100-values"
   ]
  },
  {
   "cell_type": "code",
   "execution_count": 204,
   "metadata": {},
   "outputs": [],
   "source": [
    "actual_ideal = values_gap.loc[:, (values_gap.columns.str.contains('actual')) & (values_gap.columns.str.contains('ideal'))].to_numpy().flatten()\n",
    "actual_ought = values_gap.loc[:, (values_gap.columns.str.contains('actual')) & (values_gap.columns.str.contains('ought'))].to_numpy().flatten()\n",
    "potential_ideal = values_gap.loc[:, (values_gap.columns.str.contains('potential')) & (values_gap.columns.str.contains('ideal'))].to_numpy().flatten()\n",
    "potential_ought = values_gap.loc[:, (values_gap.columns.str.contains('potential')) & (values_gap.columns.str.contains('ought'))].to_numpy().flatten()\n",
    "\n",
    "value_summary = pd.DataFrame({'actual: ideal': actual_ideal,\n",
    "                              'actual: ought': actual_ought,\n",
    "                              'potential: ideal': potential_ideal,\n",
    "                              'potential: ought': potential_ought\n",
    "                             })"
   ]
  },
  {
   "cell_type": "markdown",
   "metadata": {},
   "source": [
    "### Ideal"
   ]
  },
  {
   "cell_type": "markdown",
   "metadata": {},
   "source": [
    "#### Plot"
   ]
  },
  {
   "cell_type": "code",
   "execution_count": 205,
   "metadata": {},
   "outputs": [
    {
     "data": {
      "text/plain": [
       "<matplotlib.axes._subplots.AxesSubplot at 0x12f35f5b0>"
      ]
     },
     "execution_count": 205,
     "metadata": {},
     "output_type": "execute_result"
    },
    {
     "data": {
      "image/png": "[encoded data removed]",
      "text/plain": [
       "<Figure size 1008x576 with 1 Axes>"
      ]
     },
     "metadata": {
      "needs_background": "light"
     },
     "output_type": "display_data"
    }
   ],
   "source": [
    "plt.figure(figsize=(14, 8))\n",
    "\n",
    "values_gap.mean().plot.bar()"
   ]
  },
  {
   "cell_type": "code",
   "execution_count": 206,
   "metadata": {},
   "outputs": [
    {
     "data": {
      "text/plain": [
       "<matplotlib.axes._subplots.AxesSubplot at 0x12dbfc670>"
      ]
     },
     "execution_count": 206,
     "metadata": {},
     "output_type": "execute_result"
    },
    {
     "data": {
      "image/png": "[encoded data removed]",
      "text/plain": [
       "<Figure size 1008x576 with 1 Axes>"
      ]
     },
     "metadata": {
      "needs_background": "light"
     },
     "output_type": "display_data"
    }
   ],
   "source": [
    "plt.figure(figsize=(14, 8))\n",
    "\n",
    "value_summary.mean().plot.bar()"
   ]
  },
  {
   "cell_type": "markdown",
   "metadata": {},
   "source": [
    "#### Values"
   ]
  },
  {
   "cell_type": "code",
   "execution_count": 207,
   "metadata": {},
   "outputs": [
    {
     "data": {
      "text/plain": [
       "actual: ideal       46.666667\n",
       "actual: ought       44.000000\n",
       "potential: ideal    16.666667\n",
       "potential: ought    22.000000\n",
       "dtype: float64"
      ]
     },
     "execution_count": 207,
     "metadata": {},
     "output_type": "execute_result"
    }
   ],
   "source": [
    "value_summary.mean()"
   ]
  },
  {
   "cell_type": "code",
   "execution_count": 208,
   "metadata": {},
   "outputs": [
    {
     "data": {
      "text/plain": [
       "32.33333333333333"
      ]
     },
     "execution_count": 208,
     "metadata": {},
     "output_type": "execute_result"
    }
   ],
   "source": [
    "value_summary.mean().mean()"
   ]
  },
  {
   "cell_type": "code",
   "execution_count": 213,
   "metadata": {},
   "outputs": [
    {
     "data": {
      "text/plain": [
       "25.999999999999993"
      ]
     },
     "execution_count": 213,
     "metadata": {},
     "output_type": "execute_result"
    }
   ],
   "source": [
    "# actual - potential\n",
    "value_summary.mean()[0:2].mean() - value_summary.mean()[2:4].mean()"
   ]
  },
  {
   "cell_type": "markdown",
   "metadata": {},
   "source": [
    "#### Correlation"
   ]
  },
  {
   "cell_type": "code",
   "execution_count": 209,
   "metadata": {},
   "outputs": [
    {
     "data": {
      "image/png": "[encoded data removed]",
      "text/plain": [
       "<Figure size 1152x1152 with 2 Axes>"
      ]
     },
     "metadata": {
      "needs_background": "light"
     },
     "output_type": "display_data"
    }
   ],
   "source": [
    "# correlation plot just for fun\n",
    "plt.figure(figsize=(16, 16))\n",
    "\n",
    "data = value_summary\n",
    "\n",
    "corr = data.corr()\n",
    "ax = sns.heatmap(\n",
    "    corr, \n",
    "    vmin=-1, vmax=1, center=0,\n",
    "    cmap=sns.diverging_palette(20, 220, n=200),\n",
    "    square=True,\n",
    "    annot=True\n",
    ")\n",
    "ax.set_xticklabels(\n",
    "    ax.get_xticklabels(),\n",
    "    rotation=45,\n",
    "    horizontalalignment='right'\n",
    ");"
   ]
  },
  {
   "cell_type": "markdown",
   "metadata": {},
   "source": [
    "## Meta Gap"
   ]
  },
  {
   "cell_type": "code",
   "execution_count": 238,
   "metadata": {},
   "outputs": [],
   "source": [
    "cols = list(app_survey.columns[app_survey.columns.str.contains('meta')]) + ['IB_GAP_expectation_other']"
   ]
  },
  {
   "cell_type": "code",
   "execution_count": 240,
   "metadata": {},
   "outputs": [
    {
     "data": {
      "text/html": [
       "<div>\n",
       "<style scoped>\n",
       "    .dataframe tbody tr th:only-of-type {\n",
       "        vertical-align: middle;\n",
       "    }\n",
       "\n",
       "    .dataframe tbody tr th {\n",
       "        vertical-align: top;\n",
       "    }\n",
       "\n",
       "    .dataframe thead th {\n",
       "        text-align: right;\n",
       "    }\n",
       "</style>\n",
       "<table border=\"1\" class=\"dataframe\">\n",
       "  <thead>\n",
       "    <tr style=\"text-align: right;\">\n",
       "      <th>ResultIdentifier</th>\n",
       "      <th>IB_GAP_meta_cause</th>\n",
       "      <th>IB_GAP_meta_expectation_own</th>\n",
       "      <th>IB_GAP_meta_overall_feeling</th>\n",
       "      <th>IB_GAP_meta_potential</th>\n",
       "      <th>IB_GAP_expectation_other</th>\n",
       "    </tr>\n",
       "  </thead>\n",
       "  <tbody>\n",
       "    <tr>\n",
       "      <th>2</th>\n",
       "      <td>3</td>\n",
       "      <td>60</td>\n",
       "      <td>2</td>\n",
       "      <td>60</td>\n",
       "      <td>50</td>\n",
       "    </tr>\n",
       "    <tr>\n",
       "      <th>6</th>\n",
       "      <td>5</td>\n",
       "      <td>70</td>\n",
       "      <td>4</td>\n",
       "      <td>60</td>\n",
       "      <td>80</td>\n",
       "    </tr>\n",
       "    <tr>\n",
       "      <th>12</th>\n",
       "      <td>6</td>\n",
       "      <td>60</td>\n",
       "      <td>4</td>\n",
       "      <td>40</td>\n",
       "      <td>80</td>\n",
       "    </tr>\n",
       "  </tbody>\n",
       "</table>\n",
       "</div>"
      ],
      "text/plain": [
       "ResultIdentifier IB_GAP_meta_cause IB_GAP_meta_expectation_own  \\\n",
       "2                                3                          60   \n",
       "6                                5                          70   \n",
       "12                               6                          60   \n",
       "\n",
       "ResultIdentifier IB_GAP_meta_overall_feeling IB_GAP_meta_potential  \\\n",
       "2                                          2                    60   \n",
       "6                                          4                    60   \n",
       "12                                         4                    40   \n",
       "\n",
       "ResultIdentifier IB_GAP_expectation_other  \n",
       "2                                      50  \n",
       "6                                      80  \n",
       "12                                     80  "
      ]
     },
     "execution_count": 240,
     "metadata": {},
     "output_type": "execute_result"
    }
   ],
   "source": [
    "app_survey[cols].dropna()"
   ]
  },
  {
   "cell_type": "markdown",
   "metadata": {},
   "source": [
    "## Gap Comparsion"
   ]
  },
  {
   "cell_type": "code",
   "execution_count": 253,
   "metadata": {},
   "outputs": [],
   "source": [
    "action_actual = action_time.loc[:, action_time.columns.str.contains('actual')].to_numpy().flatten()\n",
    "action_belief = action_time.loc[:, action_time.columns.str.contains('belief')].to_numpy().flatten()\n",
    "\n",
    "values_actual = values_gap.loc[:, values_gap.columns.str.contains('actual')].to_numpy().flatten()\n",
    "values_potential = values_gap.loc[:, values_gap.columns.str.contains('potential')].to_numpy().flatten()\n",
    "\n",
    "meta = app_survey['IB_GAP_meta_potential'].dropna().astype('int')\n",
    "meta_gap = 100-meta"
   ]
  },
  {
   "cell_type": "code",
   "execution_count": 255,
   "metadata": {},
   "outputs": [],
   "source": [
    "d = {'action: actual': action_actual,\n",
    "                   'action: belief': action_belief,\n",
    "                   'values: actual': values_actual,\n",
    "                   'values: potential': values_potential,\n",
    "                   'meta gap': meta_gap\n",
    "                  }\n",
    "\n",
    "df = pd.DataFrame(dict([ (k,pd.Series(v)) for k,v in d.items() ]))"
   ]
  },
  {
   "cell_type": "code",
   "execution_count": 256,
   "metadata": {},
   "outputs": [
    {
     "data": {
      "text/plain": [
       "<matplotlib.axes._subplots.AxesSubplot at 0x12db15760>"
      ]
     },
     "execution_count": 256,
     "metadata": {},
     "output_type": "execute_result"
    },
    {
     "data": {
      "image/png": "[encoded data removed]",
      "text/plain": [
       "<Figure size 1008x576 with 1 Axes>"
      ]
     },
     "metadata": {
      "needs_background": "light"
     },
     "output_type": "display_data"
    }
   ],
   "source": [
    "plt.figure(figsize=(14, 8))\n",
    "\n",
    "df.mean().plot.bar()"
   ]
  }
 ],
 "metadata": {
  "kernelspec": {
   "display_name": "Python 3",
   "language": "python",
   "name": "python3"
  },
  "language_info": {
   "codemirror_mode": {
    "name": "ipython",
    "version": 3
   },
   "file_extension": ".py",
   "mimetype": "text/x-python",
   "name": "python",
   "nbconvert_exporter": "python",
   "pygments_lexer": "ipython3",
   "version": "3.8.3"
  },
  "toc-autonumbering": true
 },
 "nbformat": 4,
 "nbformat_minor": 4
}
