{
 "cells": [
  {
   "cell_type": "code",
   "execution_count": 2,
   "metadata": {},
   "outputs": [],
   "source": [
    "import numpy as np\n",
    "import pandas as pd\n",
    "import os\n",
    "from tqdm import tqdm\n",
    "import datetime\n",
    "from dateutil import parser\n",
    "import matplotlib.pyplot as plt\n",
    "import seaborn as sns"
   ]
  },
  {
   "cell_type": "code",
   "execution_count": null,
   "metadata": {},
   "outputs": [],
   "source": [
    "# run 1\n",
    "path = '/Users/djw/Documents/pCloud_synced/Academics/Projects/2020_thesis/thesis_experiments/3_experiments/3_3_experience_sampling/3_3_1_raw_data/run_1/app_data/'\n",
    "# run 2\n",
    "# path = '/Users/djw/Documents/pCloud_synced/Academics/Projects/2020_thesis/thesis_experiments/3_experiments/3_3_experience_sampling/3_3_1_raw_data/run_2/app_data/'"
   ]
  },
  {
   "cell_type": "code",
   "execution_count": null,
   "metadata": {},
   "outputs": [],
   "source": [
    "# run 1\n",
    "save_path = '/Users/djw/Documents/pCloud_synced/Academics/Projects/2020_thesis/thesis_experiments/3_experiments/3_3_experience_sampling/3_3_2_processed_data/run_1/'\n",
    "# run 2\n",
    "# save_path = '/Users/djw/Documents/pCloud_synced/Academics/Projects/2020_thesis/thesis_experiments/3_experiments/3_3_experience_sampling/3_3_2_processed_data/run_2/'"
   ]
  },
  {
   "cell_type": "code",
   "execution_count": null,
   "metadata": {},
   "outputs": [],
   "source": [
    "# run 1\n",
    "subjects_run1 = pd.read_csv(path + '../run1_subjects.csv')\n",
    "subjects = subjects_run1.ParticipantIdentifier\n",
    "\n",
    "# Run 2\n",
    "# subjects_run2 = pd.read_csv(path + '../run2_subjects.csv')\n",
    "# subjects = subjects_run2.ParticipantIdentifier"
   ]
  },
  {
   "cell_type": "code",
   "execution_count": null,
   "metadata": {},
   "outputs": [],
   "source": [
    "df = pd.read_csv(save_path + 'run2_survey_results.csv')"
   ]
  },
  {
   "cell_type": "code",
   "execution_count": null,
   "metadata": {},
   "outputs": [],
   "source": [
    "past24_general = [\n",
    "    'DAILY_survey_situation1_surveys',\n",
    "    'DAILY_survey_situation2_surveys',\n",
    "    'DAILY_survey_missed',\n",
    "    'DAILY_past48to24_gap',\n",
    "    'DAILY_past48to24_gapCause',\n",
    "    'DAILY_past24_ideal',\n",
    "    'DAILY_past24_satisfaction',\n",
    "    'DAILY_past24_change',\n",
    "    'DAILY_past24_productivity',\n",
    "    'DAILY_past24_procrastination',\n",
    "    'DAILY_past24_punctuality',\n",
    "    'DAILY_past24_mentalEffort',\n",
    "    'DAILY_past24_physicalEffort',\n",
    "    'DAILY_past24_values',\n",
    "    'DAILY_past24_gap',\n",
    "    'DAILY_past24_gapCause',\n",
    "    'DAILY_past24_illness',\n",
    "    'DAILY_past24_fatigue',\n",
    "    'DAILY_past24_unusualEvents'\n",
    "]\n",
    "\n",
    "past24_categories = [\n",
    "    'DAILY_past24_sleep',\n",
    "    'DAILY_past24_occupation',\n",
    "    'DAILY_past24_nonoccupation',\n",
    "    'DAILY_past24_exercise',\n",
    "    'DAILY_past24_leisureSolo',\n",
    "    'DAILY_past24_leisureSoloMental',\n",
    "    'DAILY_past24_leisureSoloPhysical',\n",
    "    'DAILY_past24_leisureNonSolo',\n",
    "    'DAILY_past24_leisureNonSoloMental',\n",
    "    'DAILY_past24_leisureNonSoloPhysical',\n",
    "    'DAILY_past24_diet',\n",
    "    'DAILY_past24_socialMedia',\n",
    "    'DAILY_past24_drinks'\n",
    "]\n",
    "\n",
    "next24_categories = [\n",
    "    'DAILY_next24_sleep',\n",
    "    'DAILY_next24_occupation',\n",
    "    'DAILY_next24_nonoccupation',\n",
    "    'DAILY_next24_leisureSolo',\n",
    "    'DAILY_next24_leisureNonSolo',\n",
    "    'DAILY_next24_exercise',\n",
    "    'DAILY_next24_socialMedia',\n",
    "    'DAILY_next24_drinks',\n",
    "    'DAILY_next24_diet'\n",
    "]\n",
    "\n",
    "specific_goals = [\n",
    "    'DAILY_goal1_set',\n",
    "    'DAILY_goal1_report',\n",
    "    'DAILY_goal1_importance',\n",
    "    'DAILY_goal1_consequences',\n",
    "    'DAILY_goal1_motivationInternal',\n",
    "    'DAILY_goal1_motivationExternal',\n",
    "    'DAILY_goal1_confidence',\n",
    "    'DAILY_goal1_effort',\n",
    "    'DAILY_goal1_interaction_week',\n",
    "    'DAILY_goal1_interaction_month',\n",
    "    'DAILY_goal2_set',\n",
    "    'DAILY_goal2_report',\n",
    "    'DAILY_goal2_importance',\n",
    "    'DAILY_goal2_consequences',\n",
    "    'DAILY_goal2_motivationInternal',\n",
    "    'DAILY_goal2_motivationExternal',\n",
    "    'DAILY_goal2_confidence',\n",
    "    'DAILY_goal2_effort',\n",
    "    'DAILY_goal2_interaction_week',\n",
    "    'DAILY_goal2_interaction_month',\n",
    "    'DAILY_goal2_interaction_eachOther'\n",
    "]\n",
    "\n",
    "non_numeric_cols = [\n",
    "    'ParticipantIdentifier', \n",
    "    'trial_date',\n",
    "    'DAILY_next24_diet',\n",
    "    'DAILY_past48to24_gapCause',\n",
    "    'DAILY_survey_situation1_surveys',\n",
    "    'DAILY_survey_situation2_surveys',\n",
    "    'DAILY_survey_missed',\n",
    "    'DAILY_past24_gapCause'\n",
    "]"
   ]
  },
  {
   "cell_type": "code",
   "execution_count": null,
   "metadata": {},
   "outputs": [],
   "source": [
    "df_daily_sr = df.loc[df.ResultIdentifier.isin(past24_general + \n",
    "                                              past24_categories + \n",
    "                                              next24_categories + \n",
    "                                              specific_goals)].reset_index(drop=True)"
   ]
  },
  {
   "cell_type": "code",
   "execution_count": null,
   "metadata": {},
   "outputs": [],
   "source": [
    "df_daily_sr.head(3)"
   ]
  },
  {
   "cell_type": "code",
   "execution_count": null,
   "metadata": {},
   "outputs": [],
   "source": [
    "df_daily_sr_wide = df_daily_sr.pivot_table(index=[\"ParticipantIdentifier\", \"trial_date\"],\n",
    "                                           columns='ResultIdentifier',\n",
    "                                           values='Answers',\n",
    "                                           aggfunc=lambda x: ' '.join(x)).reset_index()\n",
    "# get rid of name on index\n",
    "df_daily_sr_wide = df_daily_sr_wide.rename_axis(None, axis=1)"
   ]
  },
  {
   "cell_type": "code",
   "execution_count": null,
   "metadata": {},
   "outputs": [],
   "source": [
    "# convert data to numeric where appropriate\n",
    "df_daily_sr_wide.loc[:,df_daily_sr_wide.columns[~df_daily_sr_wide.columns.isin(non_numeric_cols)]] = df_daily_sr_wide.loc[:,df_daily_sr_wide.columns[~df_daily_sr_wide.columns.isin(non_numeric_cols)]].apply(pd.to_numeric, errors='coerce')"
   ]
  },
  {
   "cell_type": "code",
   "execution_count": null,
   "metadata": {},
   "outputs": [],
   "source": [
    "# Break gap cause into two columns\n",
    "df_daily_sr_wide[['DAILY_past24_gapCause_internal', 'DAILY_past24_gapCause_external', 'drop_col', 'drop_col']] = df_daily_sr_wide.DAILY_past24_gapCause.str.split(\"_\", expand = True)\n",
    "df_daily_sr_wide.drop(columns='drop_col', inplace=True)\n",
    "# convert to numeric 0-1\n",
    "cols = ['DAILY_past24_gapCause_internal', 'DAILY_past24_gapCause_external']\n",
    "df_daily_sr_wide[cols] = df_daily_sr_wide[cols].apply(pd.to_numeric, errors = 'coerce')\n",
    "df_daily_sr_wide[cols] = df_daily_sr_wide[cols]/100"
   ]
  },
  {
   "cell_type": "code",
   "execution_count": null,
   "metadata": {},
   "outputs": [],
   "source": [
    "# calculate diet gap\n",
    "df_daily_sr_wide.DAILY_past24_diet = 100 - df_daily_sr_wide.DAILY_past24_diet"
   ]
  },
  {
   "cell_type": "code",
   "execution_count": null,
   "metadata": {},
   "outputs": [],
   "source": [
    "# take the predicted amount from the day before and subtract the actual amount...\n",
    "for i in range(df_daily_sr_wide.shape[0]-1):\n",
    "    df_daily_sr_wide.loc[i+1, 'DAILY_gap_sleep'] =  df_daily_sr_wide.loc[i, 'DAILY_next24_sleep'] - df_daily_sr_wide.loc[i+1, 'DAILY_past24_sleep']\n",
    "    df_daily_sr_wide.loc[i+1, 'DAILY_gap_occupation'] =  df_daily_sr_wide.loc[i, 'DAILY_next24_occupation'] - df_daily_sr_wide.loc[i+1, 'DAILY_past24_occupation']    \n",
    "    df_daily_sr_wide.loc[i+1, 'DAILY_gap_nonoccupation'] =  df_daily_sr_wide.loc[i, 'DAILY_next24_nonoccupation'] - df_daily_sr_wide.loc[i+1, 'DAILY_past24_nonoccupation']    \n",
    "    df_daily_sr_wide.loc[i+1, 'DAILY_gap_leisureSolo'] =  df_daily_sr_wide.loc[i+1, 'DAILY_past24_leisureSolo'] - df_daily_sr_wide.loc[i, 'DAILY_next24_leisureSolo'] # reversed\n",
    "    df_daily_sr_wide.loc[i+1, 'DAILY_gap_leisureNonSolo'] =  df_daily_sr_wide.loc[i+1, 'DAILY_past24_leisureNonSolo']  - df_daily_sr_wide.loc[i, 'DAILY_next24_leisureNonSolo'] # reversed\n",
    "    df_daily_sr_wide.loc[i+1, 'DAILY_gap_exercise'] =  df_daily_sr_wide.loc[i, 'DAILY_next24_exercise'] - df_daily_sr_wide.loc[i+1, 'DAILY_past24_exercise']    \n",
    "    df_daily_sr_wide.loc[i+1, 'DAILY_gap_socialMedia'] =  df_daily_sr_wide.loc[i+1, 'DAILY_past24_socialMedia'] - df_daily_sr_wide.loc[i, 'DAILY_next24_socialMedia'] # reversed \n",
    "    df_daily_sr_wide.loc[i+1, 'DAILY_gap_drinks'] =  df_daily_sr_wide.loc[i+1, 'DAILY_past24_drinks'] - df_daily_sr_wide.loc[i, 'DAILY_next24_drinks'] # reversed\n",
    "    "
   ]
  },
  {
   "cell_type": "code",
   "execution_count": null,
   "metadata": {},
   "outputs": [],
   "source": [
    "list(df_daily_sr_wide.columns)"
   ]
  },
  {
   "cell_type": "code",
   "execution_count": null,
   "metadata": {},
   "outputs": [],
   "source": [
    "# save to csv\n",
    "df_daily_sr_wide.to_csv(save_path + 'run1_selfReport.csv', index=False)"
   ]
  },
  {
   "cell_type": "code",
   "execution_count": null,
   "metadata": {},
   "outputs": [],
   "source": []
  },
  {
   "cell_type": "code",
   "execution_count": null,
   "metadata": {},
   "outputs": [],
   "source": []
  }
 ],
 "metadata": {
  "kernelspec": {
   "display_name": ".venv",
   "language": "python",
   "name": "python3"
  },
  "language_info": {
   "codemirror_mode": {
    "name": "ipython",
    "version": 3
   },
   "file_extension": ".py",
   "mimetype": "text/x-python",
   "name": "python",
   "nbconvert_exporter": "python",
   "pygments_lexer": "ipython3",
   "version": "3.11.4"
  },
  "orig_nbformat": 4
 },
 "nbformat": 4,
 "nbformat_minor": 2
}
