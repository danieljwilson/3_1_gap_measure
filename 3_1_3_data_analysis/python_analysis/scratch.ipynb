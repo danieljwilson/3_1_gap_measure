{
 "cells": [
  {
   "cell_type": "code",
   "execution_count": 2,
   "metadata": {},
   "outputs": [],
   "source": [
    "import numpy as np\n",
    "import pandas as pd\n",
    "import os\n",
    "from tqdm import tqdm\n",
    "import datetime\n",
    "from dateutil import parser\n",
    "import matplotlib.pyplot as plt\n",
    "import seaborn as sns"
   ]
  },
  {
   "cell_type": "code",
   "execution_count": 28,
   "metadata": {},
   "outputs": [],
   "source": [
    "# # run 1\n",
    "# path = '/Users/djw/Documents/pCloud_synced/Academics/Projects/2020_thesis/thesis_experiments/3_experiments/3_3_experience_sampling/3_3_1_raw_data/run_1/app_data/'\n",
    "# run 2\n",
    "path = '/Users/djw/Documents/pCloud_synced/Academics/Projects/2020_thesis/thesis_experiments/3_experiments/3_3_experience_sampling/3_3_1_raw_data/run_2/app_data/'"
   ]
  },
  {
   "cell_type": "code",
   "execution_count": 29,
   "metadata": {},
   "outputs": [],
   "source": [
    "# run 1\n",
    "# save_path = '/Users/djw/Documents/pCloud_synced/Academics/Projects/2020_thesis/thesis_experiments/3_experiments/3_3_experience_sampling/3_3_2_processed_data/run_1/'\n",
    "# run 2\n",
    "save_path = '/Users/djw/Documents/pCloud_synced/Academics/Projects/2020_thesis/thesis_experiments/3_experiments/3_3_experience_sampling/3_3_2_processed_data/run_2/'"
   ]
  },
  {
   "cell_type": "code",
   "execution_count": 30,
   "metadata": {},
   "outputs": [],
   "source": [
    "# run 1\n",
    "# subjects_run1 = pd.read_csv(path + '../run1_subjects.csv')\n",
    "# subjects = subjects_run1.ParticipantIdentifier\n",
    "\n",
    "# Run 2\n",
    "subjects_run2 = pd.read_csv(path + '../run2_subjects.csv')\n",
    "subjects = subjects_run2.ParticipantIdentifier"
   ]
  },
  {
   "cell_type": "code",
   "execution_count": 31,
   "metadata": {},
   "outputs": [],
   "source": [
    "df = pd.read_csv(save_path + 'run2_survey_results.csv')"
   ]
  },
  {
   "cell_type": "code",
   "execution_count": 32,
   "metadata": {},
   "outputs": [],
   "source": [
    "past24_general = [\n",
    "    'DAILY_survey_situation1_surveys',\n",
    "    'DAILY_survey_situation2_surveys',\n",
    "    'DAILY_survey_missed',\n",
    "    'DAILY_past48to24_gap',\n",
    "    'DAILY_past48to24_gapCause',\n",
    "    'DAILY_past24_ideal',\n",
    "    'DAILY_past24_satisfaction',\n",
    "    'DAILY_past24_change',\n",
    "    'DAILY_past24_productivity',\n",
    "    'DAILY_past24_procrastination',\n",
    "    'DAILY_past24_punctuality',\n",
    "    'DAILY_past24_mentalEffort',\n",
    "    'DAILY_past24_physicalEffort',\n",
    "    'DAILY_past24_values',\n",
    "    'DAILY_past24_gap',\n",
    "    'DAILY_past24_gapCause',\n",
    "    'DAILY_past24_illness',\n",
    "    'DAILY_past24_fatigue',\n",
    "    'DAILY_past24_unusualEvents'\n",
    "]\n",
    "\n",
    "past24_categories = [\n",
    "    'DAILY_past24_sleep',\n",
    "    'DAILY_past24_occupation',\n",
    "    'DAILY_past24_nonoccupation',\n",
    "    'DAILY_past24_exercise',\n",
    "    'DAILY_past24_leisureSolo',\n",
    "    'DAILY_past24_leisureSoloMental',\n",
    "    'DAILY_past24_leisureSoloPhysical',\n",
    "    'DAILY_past24_leisureNonSolo',\n",
    "    'DAILY_past24_leisureNonSoloMental',\n",
    "    'DAILY_past24_leisureNonSoloPhysical',\n",
    "    'DAILY_past24_diet',\n",
    "    'DAILY_past24_socialMedia',\n",
    "    'DAILY_past24_drinks'\n",
    "]\n",
    "\n",
    "next24_categories = [\n",
    "    'DAILY_next24_sleep',\n",
    "    'DAILY_next24_occupation',\n",
    "    'DAILY_next24_nonoccupation',\n",
    "    'DAILY_next24_leisureSolo',\n",
    "    'DAILY_next24_leisureNonSolo',\n",
    "    'DAILY_next24_exercise',\n",
    "    'DAILY_next24_socialMedia',\n",
    "    'DAILY_next24_drinks',\n",
    "    'DAILY_next24_diet'\n",
    "]\n",
    "\n",
    "specific_goals = [\n",
    "    'DAILY_goal1_set',\n",
    "    'DAILY_goal1_report',\n",
    "    'DAILY_goal1_importance',\n",
    "    'DAILY_goal1_consequences',\n",
    "    'DAILY_goal1_motivationInternal',\n",
    "    'DAILY_goal1_motivationExternal',\n",
    "    'DAILY_goal1_confidence',\n",
    "    'DAILY_goal1_effort',\n",
    "    'DAILY_goal1_interaction_week',\n",
    "    'DAILY_goal1_interaction_month',\n",
    "    'DAILY_goal2_set',\n",
    "    'DAILY_goal2_report',\n",
    "    'DAILY_goal2_importance',\n",
    "    'DAILY_goal2_consequences',\n",
    "    'DAILY_goal2_motivationInternal',\n",
    "    'DAILY_goal2_motivationExternal',\n",
    "    'DAILY_goal2_confidence',\n",
    "    'DAILY_goal2_effort',\n",
    "    'DAILY_goal2_interaction_week',\n",
    "    'DAILY_goal2_interaction_month',\n",
    "    'DAILY_goal2_interaction_eachOther'\n",
    "]\n",
    "\n",
    "non_numeric_cols = [\n",
    "    'ParticipantIdentifier', \n",
    "    'trial_date',\n",
    "    'DAILY_next24_diet',\n",
    "    'DAILY_past48to24_gapCause',\n",
    "    'DAILY_survey_situation1_surveys',\n",
    "    'DAILY_survey_situation2_surveys',\n",
    "    'DAILY_survey_missed',\n",
    "    'DAILY_past24_gapCause'\n",
    "]"
   ]
  },
  {
   "cell_type": "code",
   "execution_count": 33,
   "metadata": {},
   "outputs": [],
   "source": [
    "df_daily_sr = df.loc[df.ResultIdentifier.isin(past24_general + \n",
    "                                              past24_categories + \n",
    "                                              next24_categories + \n",
    "                                              specific_goals)].reset_index(drop=True)"
   ]
  },
  {
   "cell_type": "code",
   "execution_count": 34,
   "metadata": {},
   "outputs": [
    {
     "data": {
      "text/html": [
       "<div>\n",
       "<style scoped>\n",
       "    .dataframe tbody tr th:only-of-type {\n",
       "        vertical-align: middle;\n",
       "    }\n",
       "\n",
       "    .dataframe tbody tr th {\n",
       "        vertical-align: top;\n",
       "    }\n",
       "\n",
       "    .dataframe thead th {\n",
       "        text-align: right;\n",
       "    }\n",
       "</style>\n",
       "<table border=\"1\" class=\"dataframe\">\n",
       "  <thead>\n",
       "    <tr style=\"text-align: right;\">\n",
       "      <th></th>\n",
       "      <th>ParticipantIdentifier</th>\n",
       "      <th>ResultIdentifier</th>\n",
       "      <th>Answers</th>\n",
       "      <th>EndDate</th>\n",
       "      <th>datetime</th>\n",
       "      <th>trial_date</th>\n",
       "      <th>time</th>\n",
       "    </tr>\n",
       "  </thead>\n",
       "  <tbody>\n",
       "    <tr>\n",
       "      <th>0</th>\n",
       "      <td>69979026-b13a-44d6-aa95-35b24badd593</td>\n",
       "      <td>DAILY_survey_situation1_surveys</td>\n",
       "      <td>in_public</td>\n",
       "      <td>2023-04-06T20:12:23-04:00</td>\n",
       "      <td>2023-04-06 20:12:23-04:00</td>\n",
       "      <td>2023-04-06</td>\n",
       "      <td>20:12:23</td>\n",
       "    </tr>\n",
       "    <tr>\n",
       "      <th>1</th>\n",
       "      <td>69979026-b13a-44d6-aa95-35b24badd593</td>\n",
       "      <td>DAILY_survey_situation2_surveys</td>\n",
       "      <td>False</td>\n",
       "      <td>2023-04-06T20:12:23-04:00</td>\n",
       "      <td>2023-04-06 20:12:23-04:00</td>\n",
       "      <td>2023-04-06</td>\n",
       "      <td>20:12:23</td>\n",
       "    </tr>\n",
       "    <tr>\n",
       "      <th>2</th>\n",
       "      <td>69979026-b13a-44d6-aa95-35b24badd593</td>\n",
       "      <td>DAILY_survey_missed</td>\n",
       "      <td>did_not_miss</td>\n",
       "      <td>2023-04-06T20:12:24-04:00</td>\n",
       "      <td>2023-04-06 20:12:24-04:00</td>\n",
       "      <td>2023-04-06</td>\n",
       "      <td>20:12:24</td>\n",
       "    </tr>\n",
       "  </tbody>\n",
       "</table>\n",
       "</div>"
      ],
      "text/plain": [
       "                  ParticipantIdentifier                 ResultIdentifier  \\\n",
       "0  69979026-b13a-44d6-aa95-35b24badd593  DAILY_survey_situation1_surveys   \n",
       "1  69979026-b13a-44d6-aa95-35b24badd593  DAILY_survey_situation2_surveys   \n",
       "2  69979026-b13a-44d6-aa95-35b24badd593              DAILY_survey_missed   \n",
       "\n",
       "        Answers                    EndDate                   datetime  \\\n",
       "0     in_public  2023-04-06T20:12:23-04:00  2023-04-06 20:12:23-04:00   \n",
       "1         False  2023-04-06T20:12:23-04:00  2023-04-06 20:12:23-04:00   \n",
       "2  did_not_miss  2023-04-06T20:12:24-04:00  2023-04-06 20:12:24-04:00   \n",
       "\n",
       "   trial_date      time  \n",
       "0  2023-04-06  20:12:23  \n",
       "1  2023-04-06  20:12:23  \n",
       "2  2023-04-06  20:12:24  "
      ]
     },
     "execution_count": 34,
     "metadata": {},
     "output_type": "execute_result"
    }
   ],
   "source": [
    "df_daily_sr.head(3)"
   ]
  },
  {
   "cell_type": "code",
   "execution_count": 35,
   "metadata": {},
   "outputs": [],
   "source": [
    "df = df_daily_sr.loc[df_daily_sr.ResultIdentifier.str.endswith('_set'),]"
   ]
  },
  {
   "cell_type": "code",
   "execution_count": 24,
   "metadata": {},
   "outputs": [
    {
     "name": "stderr",
     "output_type": "stream",
     "text": [
      "/var/folders/lw/ys_1b9sj08s904m4402qr0bm0000gn/T/ipykernel_60399/1376793381.py:1: SettingWithCopyWarning: \n",
      "A value is trying to be set on a copy of a slice from a DataFrame\n",
      "\n",
      "See the caveats in the documentation: https://pandas.pydata.org/pandas-docs/stable/user_guide/indexing.html#returning-a-view-versus-a-copy\n",
      "  df.drop(['Unnamed: 0'], axis=1, inplace=True)\n"
     ]
    }
   ],
   "source": [
    "df.drop(['Unnamed: 0'], axis=1, inplace=True)"
   ]
  },
  {
   "cell_type": "code",
   "execution_count": 36,
   "metadata": {},
   "outputs": [
    {
     "data": {
      "text/html": [
       "<div>\n",
       "<style scoped>\n",
       "    .dataframe tbody tr th:only-of-type {\n",
       "        vertical-align: middle;\n",
       "    }\n",
       "\n",
       "    .dataframe tbody tr th {\n",
       "        vertical-align: top;\n",
       "    }\n",
       "\n",
       "    .dataframe thead th {\n",
       "        text-align: right;\n",
       "    }\n",
       "</style>\n",
       "<table border=\"1\" class=\"dataframe\">\n",
       "  <thead>\n",
       "    <tr style=\"text-align: right;\">\n",
       "      <th></th>\n",
       "      <th>ParticipantIdentifier</th>\n",
       "      <th>ResultIdentifier</th>\n",
       "      <th>Answers</th>\n",
       "      <th>EndDate</th>\n",
       "      <th>datetime</th>\n",
       "      <th>trial_date</th>\n",
       "      <th>time</th>\n",
       "    </tr>\n",
       "  </thead>\n",
       "  <tbody>\n",
       "    <tr>\n",
       "      <th>27</th>\n",
       "      <td>69979026-b13a-44d6-aa95-35b24badd593</td>\n",
       "      <td>DAILY_goal1_set</td>\n",
       "      <td>study</td>\n",
       "      <td>2023-04-06T20:13:25-04:00</td>\n",
       "      <td>2023-04-06 20:13:25-04:00</td>\n",
       "      <td>2023-04-06</td>\n",
       "      <td>20:13:25</td>\n",
       "    </tr>\n",
       "    <tr>\n",
       "      <th>34</th>\n",
       "      <td>69979026-b13a-44d6-aa95-35b24badd593</td>\n",
       "      <td>DAILY_goal2_set</td>\n",
       "      <td>exercise</td>\n",
       "      <td>2023-04-06T20:13:45-04:00</td>\n",
       "      <td>2023-04-06 20:13:45-04:00</td>\n",
       "      <td>2023-04-06</td>\n",
       "      <td>20:13:45</td>\n",
       "    </tr>\n",
       "    <tr>\n",
       "      <th>84</th>\n",
       "      <td>5350441c-7181-463e-9165-5611b5bcab10</td>\n",
       "      <td>DAILY_goal1_set</td>\n",
       "      <td>go to gym</td>\n",
       "      <td>2023-04-06T20:18:10-04:00</td>\n",
       "      <td>2023-04-06 20:18:10-04:00</td>\n",
       "      <td>2023-04-06</td>\n",
       "      <td>20:18:10</td>\n",
       "    </tr>\n",
       "    <tr>\n",
       "      <th>96</th>\n",
       "      <td>5350441c-7181-463e-9165-5611b5bcab10</td>\n",
       "      <td>DAILY_goal2_set</td>\n",
       "      <td>study for psych</td>\n",
       "      <td>2023-04-06T20:18:32-04:00</td>\n",
       "      <td>2023-04-06 20:18:32-04:00</td>\n",
       "      <td>2023-04-06</td>\n",
       "      <td>20:18:32</td>\n",
       "    </tr>\n",
       "    <tr>\n",
       "      <th>134</th>\n",
       "      <td>739d41bb-f3ec-4860-be5a-c711aaec4729</td>\n",
       "      <td>DAILY_goal1_set</td>\n",
       "      <td>drink more water</td>\n",
       "      <td>2023-04-06T20:23:01-04:00</td>\n",
       "      <td>2023-04-06 20:23:01-04:00</td>\n",
       "      <td>2023-04-06</td>\n",
       "      <td>20:23:01</td>\n",
       "    </tr>\n",
       "  </tbody>\n",
       "</table>\n",
       "</div>"
      ],
      "text/plain": [
       "                    ParticipantIdentifier ResultIdentifier            Answers  \\\n",
       "27   69979026-b13a-44d6-aa95-35b24badd593  DAILY_goal1_set             study    \n",
       "34   69979026-b13a-44d6-aa95-35b24badd593  DAILY_goal2_set          exercise    \n",
       "84   5350441c-7181-463e-9165-5611b5bcab10  DAILY_goal1_set          go to gym   \n",
       "96   5350441c-7181-463e-9165-5611b5bcab10  DAILY_goal2_set    study for psych   \n",
       "134  739d41bb-f3ec-4860-be5a-c711aaec4729  DAILY_goal1_set  drink more water    \n",
       "\n",
       "                       EndDate                   datetime  trial_date  \\\n",
       "27   2023-04-06T20:13:25-04:00  2023-04-06 20:13:25-04:00  2023-04-06   \n",
       "34   2023-04-06T20:13:45-04:00  2023-04-06 20:13:45-04:00  2023-04-06   \n",
       "84   2023-04-06T20:18:10-04:00  2023-04-06 20:18:10-04:00  2023-04-06   \n",
       "96   2023-04-06T20:18:32-04:00  2023-04-06 20:18:32-04:00  2023-04-06   \n",
       "134  2023-04-06T20:23:01-04:00  2023-04-06 20:23:01-04:00  2023-04-06   \n",
       "\n",
       "         time  \n",
       "27   20:13:25  \n",
       "34   20:13:45  \n",
       "84   20:18:10  \n",
       "96   20:18:32  \n",
       "134  20:23:01  "
      ]
     },
     "execution_count": 36,
     "metadata": {},
     "output_type": "execute_result"
    }
   ],
   "source": [
    "df.head()"
   ]
  },
  {
   "cell_type": "code",
   "execution_count": 37,
   "metadata": {},
   "outputs": [],
   "source": [
    "df.to_csv(save_path + 'run2_dailGoals.csv', index=False)"
   ]
  },
  {
   "cell_type": "code",
   "execution_count": 11,
   "metadata": {},
   "outputs": [
    {
     "ename": "TypeError",
     "evalue": "sequence item 0: expected str instance, float found",
     "output_type": "error",
     "traceback": [
      "\u001b[0;31m---------------------------------------------------------------------------\u001b[0m",
      "\u001b[0;31mTypeError\u001b[0m                                 Traceback (most recent call last)",
      "\u001b[1;32m/Users/djw/Documents/pCloud_synced/Academics/Projects/2020_thesis/thesis_experiments/3_experiments/3_1_gap_measure/3_1_3_data_analysis/python_analysis/scratch.ipynb Cell 9\u001b[0m line \u001b[0;36m1\n\u001b[0;32m----> <a href='vscode-notebook-cell:/Users/djw/Documents/pCloud_synced/Academics/Projects/2020_thesis/thesis_experiments/3_experiments/3_1_gap_measure/3_1_3_data_analysis/python_analysis/scratch.ipynb#X11sZmlsZQ%3D%3D?line=0'>1</a>\u001b[0m df_daily_sr_wide \u001b[39m=\u001b[39m df_daily_sr\u001b[39m.\u001b[39;49mpivot_table(index\u001b[39m=\u001b[39;49m[\u001b[39m\"\u001b[39;49m\u001b[39mParticipantIdentifier\u001b[39;49m\u001b[39m\"\u001b[39;49m, \u001b[39m\"\u001b[39;49m\u001b[39mtrial_date\u001b[39;49m\u001b[39m\"\u001b[39;49m],\n\u001b[1;32m      <a href='vscode-notebook-cell:/Users/djw/Documents/pCloud_synced/Academics/Projects/2020_thesis/thesis_experiments/3_experiments/3_1_gap_measure/3_1_3_data_analysis/python_analysis/scratch.ipynb#X11sZmlsZQ%3D%3D?line=1'>2</a>\u001b[0m                                            columns\u001b[39m=\u001b[39;49m\u001b[39m'\u001b[39;49m\u001b[39mResultIdentifier\u001b[39;49m\u001b[39m'\u001b[39;49m,\n\u001b[1;32m      <a href='vscode-notebook-cell:/Users/djw/Documents/pCloud_synced/Academics/Projects/2020_thesis/thesis_experiments/3_experiments/3_1_gap_measure/3_1_3_data_analysis/python_analysis/scratch.ipynb#X11sZmlsZQ%3D%3D?line=2'>3</a>\u001b[0m                                            values\u001b[39m=\u001b[39;49m\u001b[39m'\u001b[39;49m\u001b[39mAnswers\u001b[39;49m\u001b[39m'\u001b[39;49m,\n\u001b[1;32m      <a href='vscode-notebook-cell:/Users/djw/Documents/pCloud_synced/Academics/Projects/2020_thesis/thesis_experiments/3_experiments/3_1_gap_measure/3_1_3_data_analysis/python_analysis/scratch.ipynb#X11sZmlsZQ%3D%3D?line=3'>4</a>\u001b[0m                                            aggfunc\u001b[39m=\u001b[39;49m\u001b[39mlambda\u001b[39;49;00m x: \u001b[39m'\u001b[39;49m\u001b[39m \u001b[39;49m\u001b[39m'\u001b[39;49m\u001b[39m.\u001b[39;49mjoin(x))\u001b[39m.\u001b[39mreset_index()\n\u001b[1;32m      <a href='vscode-notebook-cell:/Users/djw/Documents/pCloud_synced/Academics/Projects/2020_thesis/thesis_experiments/3_experiments/3_1_gap_measure/3_1_3_data_analysis/python_analysis/scratch.ipynb#X11sZmlsZQ%3D%3D?line=4'>5</a>\u001b[0m \u001b[39m# get rid of name on index\u001b[39;00m\n\u001b[1;32m      <a href='vscode-notebook-cell:/Users/djw/Documents/pCloud_synced/Academics/Projects/2020_thesis/thesis_experiments/3_experiments/3_1_gap_measure/3_1_3_data_analysis/python_analysis/scratch.ipynb#X11sZmlsZQ%3D%3D?line=5'>6</a>\u001b[0m df_daily_sr_wide \u001b[39m=\u001b[39m df_daily_sr_wide\u001b[39m.\u001b[39mrename_axis(\u001b[39mNone\u001b[39;00m, axis\u001b[39m=\u001b[39m\u001b[39m1\u001b[39m)\n",
      "File \u001b[0;32m~/Documents/pCloud_synced/Academics/Projects/2020_thesis/thesis_experiments/3_experiments/3_1_gap_measure/3_1_3_data_analysis/python_analysis/.venv/lib/python3.11/site-packages/pandas/core/frame.py:8579\u001b[0m, in \u001b[0;36mDataFrame.pivot_table\u001b[0;34m(self, values, index, columns, aggfunc, fill_value, margins, dropna, margins_name, observed, sort)\u001b[0m\n\u001b[1;32m   8562\u001b[0m \u001b[39m@Substitution\u001b[39m(\u001b[39m\"\u001b[39m\u001b[39m\"\u001b[39m)\n\u001b[1;32m   8563\u001b[0m \u001b[39m@Appender\u001b[39m(_shared_docs[\u001b[39m\"\u001b[39m\u001b[39mpivot_table\u001b[39m\u001b[39m\"\u001b[39m])\n\u001b[1;32m   8564\u001b[0m \u001b[39mdef\u001b[39;00m \u001b[39mpivot_table\u001b[39m(\n\u001b[0;32m   (...)\u001b[0m\n\u001b[1;32m   8575\u001b[0m     sort: \u001b[39mbool\u001b[39m \u001b[39m=\u001b[39m \u001b[39mTrue\u001b[39;00m,\n\u001b[1;32m   8576\u001b[0m ) \u001b[39m-\u001b[39m\u001b[39m>\u001b[39m DataFrame:\n\u001b[1;32m   8577\u001b[0m     \u001b[39mfrom\u001b[39;00m \u001b[39mpandas\u001b[39;00m\u001b[39m.\u001b[39;00m\u001b[39mcore\u001b[39;00m\u001b[39m.\u001b[39;00m\u001b[39mreshape\u001b[39;00m\u001b[39m.\u001b[39;00m\u001b[39mpivot\u001b[39;00m \u001b[39mimport\u001b[39;00m pivot_table\n\u001b[0;32m-> 8579\u001b[0m     \u001b[39mreturn\u001b[39;00m pivot_table(\n\u001b[1;32m   8580\u001b[0m         \u001b[39mself\u001b[39;49m,\n\u001b[1;32m   8581\u001b[0m         values\u001b[39m=\u001b[39;49mvalues,\n\u001b[1;32m   8582\u001b[0m         index\u001b[39m=\u001b[39;49mindex,\n\u001b[1;32m   8583\u001b[0m         columns\u001b[39m=\u001b[39;49mcolumns,\n\u001b[1;32m   8584\u001b[0m         aggfunc\u001b[39m=\u001b[39;49maggfunc,\n\u001b[1;32m   8585\u001b[0m         fill_value\u001b[39m=\u001b[39;49mfill_value,\n\u001b[1;32m   8586\u001b[0m         margins\u001b[39m=\u001b[39;49mmargins,\n\u001b[1;32m   8587\u001b[0m         dropna\u001b[39m=\u001b[39;49mdropna,\n\u001b[1;32m   8588\u001b[0m         margins_name\u001b[39m=\u001b[39;49mmargins_name,\n\u001b[1;32m   8589\u001b[0m         observed\u001b[39m=\u001b[39;49mobserved,\n\u001b[1;32m   8590\u001b[0m         sort\u001b[39m=\u001b[39;49msort,\n\u001b[1;32m   8591\u001b[0m     )\n",
      "File \u001b[0;32m~/Documents/pCloud_synced/Academics/Projects/2020_thesis/thesis_experiments/3_experiments/3_1_gap_measure/3_1_3_data_analysis/python_analysis/.venv/lib/python3.11/site-packages/pandas/core/reshape/pivot.py:97\u001b[0m, in \u001b[0;36mpivot_table\u001b[0;34m(data, values, index, columns, aggfunc, fill_value, margins, dropna, margins_name, observed, sort)\u001b[0m\n\u001b[1;32m     94\u001b[0m     table \u001b[39m=\u001b[39m concat(pieces, keys\u001b[39m=\u001b[39mkeys, axis\u001b[39m=\u001b[39m\u001b[39m1\u001b[39m)\n\u001b[1;32m     95\u001b[0m     \u001b[39mreturn\u001b[39;00m table\u001b[39m.\u001b[39m__finalize__(data, method\u001b[39m=\u001b[39m\u001b[39m\"\u001b[39m\u001b[39mpivot_table\u001b[39m\u001b[39m\"\u001b[39m)\n\u001b[0;32m---> 97\u001b[0m table \u001b[39m=\u001b[39m __internal_pivot_table(\n\u001b[1;32m     98\u001b[0m     data,\n\u001b[1;32m     99\u001b[0m     values,\n\u001b[1;32m    100\u001b[0m     index,\n\u001b[1;32m    101\u001b[0m     columns,\n\u001b[1;32m    102\u001b[0m     aggfunc,\n\u001b[1;32m    103\u001b[0m     fill_value,\n\u001b[1;32m    104\u001b[0m     margins,\n\u001b[1;32m    105\u001b[0m     dropna,\n\u001b[1;32m    106\u001b[0m     margins_name,\n\u001b[1;32m    107\u001b[0m     observed,\n\u001b[1;32m    108\u001b[0m     sort,\n\u001b[1;32m    109\u001b[0m )\n\u001b[1;32m    110\u001b[0m \u001b[39mreturn\u001b[39;00m table\u001b[39m.\u001b[39m__finalize__(data, method\u001b[39m=\u001b[39m\u001b[39m\"\u001b[39m\u001b[39mpivot_table\u001b[39m\u001b[39m\"\u001b[39m)\n",
      "File \u001b[0;32m~/Documents/pCloud_synced/Academics/Projects/2020_thesis/thesis_experiments/3_experiments/3_1_gap_measure/3_1_3_data_analysis/python_analysis/.venv/lib/python3.11/site-packages/pandas/core/reshape/pivot.py:167\u001b[0m, in \u001b[0;36m__internal_pivot_table\u001b[0;34m(data, values, index, columns, aggfunc, fill_value, margins, dropna, margins_name, observed, sort)\u001b[0m\n\u001b[1;32m    164\u001b[0m     values \u001b[39m=\u001b[39m \u001b[39mlist\u001b[39m(values)\n\u001b[1;32m    166\u001b[0m grouped \u001b[39m=\u001b[39m data\u001b[39m.\u001b[39mgroupby(keys, observed\u001b[39m=\u001b[39mobserved, sort\u001b[39m=\u001b[39msort)\n\u001b[0;32m--> 167\u001b[0m agged \u001b[39m=\u001b[39m grouped\u001b[39m.\u001b[39;49magg(aggfunc)\n\u001b[1;32m    169\u001b[0m \u001b[39mif\u001b[39;00m dropna \u001b[39mand\u001b[39;00m \u001b[39misinstance\u001b[39m(agged, ABCDataFrame) \u001b[39mand\u001b[39;00m \u001b[39mlen\u001b[39m(agged\u001b[39m.\u001b[39mcolumns):\n\u001b[1;32m    170\u001b[0m     agged \u001b[39m=\u001b[39m agged\u001b[39m.\u001b[39mdropna(how\u001b[39m=\u001b[39m\u001b[39m\"\u001b[39m\u001b[39mall\u001b[39m\u001b[39m\"\u001b[39m)\n",
      "File \u001b[0;32m~/Documents/pCloud_synced/Academics/Projects/2020_thesis/thesis_experiments/3_experiments/3_1_gap_measure/3_1_3_data_analysis/python_analysis/.venv/lib/python3.11/site-packages/pandas/core/groupby/generic.py:1288\u001b[0m, in \u001b[0;36mDataFrameGroupBy.aggregate\u001b[0;34m(self, func, engine, engine_kwargs, *args, **kwargs)\u001b[0m\n\u001b[1;32m   1284\u001b[0m \u001b[39mif\u001b[39;00m result \u001b[39mis\u001b[39;00m \u001b[39mNone\u001b[39;00m:\n\u001b[1;32m   1285\u001b[0m     \u001b[39m# grouper specific aggregations\u001b[39;00m\n\u001b[1;32m   1286\u001b[0m     \u001b[39mif\u001b[39;00m \u001b[39mself\u001b[39m\u001b[39m.\u001b[39mgrouper\u001b[39m.\u001b[39mnkeys \u001b[39m>\u001b[39m \u001b[39m1\u001b[39m:\n\u001b[1;32m   1287\u001b[0m         \u001b[39m# test_groupby_as_index_series_scalar gets here with 'not self.as_index'\u001b[39;00m\n\u001b[0;32m-> 1288\u001b[0m         \u001b[39mreturn\u001b[39;00m \u001b[39mself\u001b[39;49m\u001b[39m.\u001b[39;49m_python_agg_general(func, \u001b[39m*\u001b[39;49margs, \u001b[39m*\u001b[39;49m\u001b[39m*\u001b[39;49mkwargs)\n\u001b[1;32m   1289\u001b[0m     \u001b[39melif\u001b[39;00m args \u001b[39mor\u001b[39;00m kwargs:\n\u001b[1;32m   1290\u001b[0m         \u001b[39m# test_pass_args_kwargs gets here (with and without as_index)\u001b[39;00m\n\u001b[1;32m   1291\u001b[0m         \u001b[39m# can't return early\u001b[39;00m\n\u001b[1;32m   1292\u001b[0m         result \u001b[39m=\u001b[39m \u001b[39mself\u001b[39m\u001b[39m.\u001b[39m_aggregate_frame(func, \u001b[39m*\u001b[39margs, \u001b[39m*\u001b[39m\u001b[39m*\u001b[39mkwargs)\n",
      "File \u001b[0;32m~/Documents/pCloud_synced/Academics/Projects/2020_thesis/thesis_experiments/3_experiments/3_1_gap_measure/3_1_3_data_analysis/python_analysis/.venv/lib/python3.11/site-packages/pandas/core/groupby/generic.py:1345\u001b[0m, in \u001b[0;36mDataFrameGroupBy._python_agg_general\u001b[0;34m(self, func, *args, **kwargs)\u001b[0m\n\u001b[1;32m   1343\u001b[0m \u001b[39mfor\u001b[39;00m idx, obj \u001b[39min\u001b[39;00m \u001b[39menumerate\u001b[39m(\u001b[39mself\u001b[39m\u001b[39m.\u001b[39m_iterate_slices()):\n\u001b[1;32m   1344\u001b[0m     name \u001b[39m=\u001b[39m obj\u001b[39m.\u001b[39mname\n\u001b[0;32m-> 1345\u001b[0m     result \u001b[39m=\u001b[39m \u001b[39mself\u001b[39;49m\u001b[39m.\u001b[39;49mgrouper\u001b[39m.\u001b[39;49magg_series(obj, f)\n\u001b[1;32m   1346\u001b[0m     key \u001b[39m=\u001b[39m base\u001b[39m.\u001b[39mOutputKey(label\u001b[39m=\u001b[39mname, position\u001b[39m=\u001b[39midx)\n\u001b[1;32m   1347\u001b[0m     output[key] \u001b[39m=\u001b[39m result\n",
      "File \u001b[0;32m~/Documents/pCloud_synced/Academics/Projects/2020_thesis/thesis_experiments/3_experiments/3_1_gap_measure/3_1_3_data_analysis/python_analysis/.venv/lib/python3.11/site-packages/pandas/core/groupby/ops.py:994\u001b[0m, in \u001b[0;36mBaseGrouper.agg_series\u001b[0;34m(self, obj, func, preserve_dtype)\u001b[0m\n\u001b[1;32m    987\u001b[0m \u001b[39mif\u001b[39;00m \u001b[39mlen\u001b[39m(obj) \u001b[39m>\u001b[39m \u001b[39m0\u001b[39m \u001b[39mand\u001b[39;00m \u001b[39mnot\u001b[39;00m \u001b[39misinstance\u001b[39m(obj\u001b[39m.\u001b[39m_values, np\u001b[39m.\u001b[39mndarray):\n\u001b[1;32m    988\u001b[0m     \u001b[39m# we can preserve a little bit more aggressively with EA dtype\u001b[39;00m\n\u001b[1;32m    989\u001b[0m     \u001b[39m#  because maybe_cast_pointwise_result will do a try/except\u001b[39;00m\n\u001b[1;32m    990\u001b[0m     \u001b[39m#  with _from_sequence.  NB we are assuming here that _from_sequence\u001b[39;00m\n\u001b[1;32m    991\u001b[0m     \u001b[39m#  is sufficiently strict that it casts appropriately.\u001b[39;00m\n\u001b[1;32m    992\u001b[0m     preserve_dtype \u001b[39m=\u001b[39m \u001b[39mTrue\u001b[39;00m\n\u001b[0;32m--> 994\u001b[0m result \u001b[39m=\u001b[39m \u001b[39mself\u001b[39;49m\u001b[39m.\u001b[39;49m_aggregate_series_pure_python(obj, func)\n\u001b[1;32m    996\u001b[0m npvalues \u001b[39m=\u001b[39m lib\u001b[39m.\u001b[39mmaybe_convert_objects(result, try_float\u001b[39m=\u001b[39m\u001b[39mFalse\u001b[39;00m)\n\u001b[1;32m    997\u001b[0m \u001b[39mif\u001b[39;00m preserve_dtype:\n",
      "File \u001b[0;32m~/Documents/pCloud_synced/Academics/Projects/2020_thesis/thesis_experiments/3_experiments/3_1_gap_measure/3_1_3_data_analysis/python_analysis/.venv/lib/python3.11/site-packages/pandas/core/groupby/ops.py:1015\u001b[0m, in \u001b[0;36mBaseGrouper._aggregate_series_pure_python\u001b[0;34m(self, obj, func)\u001b[0m\n\u001b[1;32m   1012\u001b[0m splitter \u001b[39m=\u001b[39m \u001b[39mself\u001b[39m\u001b[39m.\u001b[39m_get_splitter(obj, axis\u001b[39m=\u001b[39m\u001b[39m0\u001b[39m)\n\u001b[1;32m   1014\u001b[0m \u001b[39mfor\u001b[39;00m i, group \u001b[39min\u001b[39;00m \u001b[39menumerate\u001b[39m(splitter):\n\u001b[0;32m-> 1015\u001b[0m     res \u001b[39m=\u001b[39m func(group)\n\u001b[1;32m   1016\u001b[0m     res \u001b[39m=\u001b[39m libreduction\u001b[39m.\u001b[39mextract_result(res)\n\u001b[1;32m   1018\u001b[0m     \u001b[39mif\u001b[39;00m \u001b[39mnot\u001b[39;00m initialized:\n\u001b[1;32m   1019\u001b[0m         \u001b[39m# We only do this validation on the first iteration\u001b[39;00m\n",
      "File \u001b[0;32m~/Documents/pCloud_synced/Academics/Projects/2020_thesis/thesis_experiments/3_experiments/3_1_gap_measure/3_1_3_data_analysis/python_analysis/.venv/lib/python3.11/site-packages/pandas/core/groupby/generic.py:1333\u001b[0m, in \u001b[0;36mDataFrameGroupBy._python_agg_general.<locals>.<lambda>\u001b[0;34m(x)\u001b[0m\n\u001b[1;32m   1331\u001b[0m \u001b[39mdef\u001b[39;00m \u001b[39m_python_agg_general\u001b[39m(\u001b[39mself\u001b[39m, func, \u001b[39m*\u001b[39margs, \u001b[39m*\u001b[39m\u001b[39m*\u001b[39mkwargs):\n\u001b[1;32m   1332\u001b[0m     func \u001b[39m=\u001b[39m com\u001b[39m.\u001b[39mis_builtin_func(func)\n\u001b[0;32m-> 1333\u001b[0m     f \u001b[39m=\u001b[39m \u001b[39mlambda\u001b[39;00m x: func(x, \u001b[39m*\u001b[39;49margs, \u001b[39m*\u001b[39;49m\u001b[39m*\u001b[39;49mkwargs)\n\u001b[1;32m   1335\u001b[0m     \u001b[39m# iterate through \"columns\" ex exclusions to populate output dict\u001b[39;00m\n\u001b[1;32m   1336\u001b[0m     output: \u001b[39mdict\u001b[39m[base\u001b[39m.\u001b[39mOutputKey, ArrayLike] \u001b[39m=\u001b[39m {}\n",
      "\u001b[1;32m/Users/djw/Documents/pCloud_synced/Academics/Projects/2020_thesis/thesis_experiments/3_experiments/3_1_gap_measure/3_1_3_data_analysis/python_analysis/scratch.ipynb Cell 9\u001b[0m line \u001b[0;36m4\n\u001b[1;32m      <a href='vscode-notebook-cell:/Users/djw/Documents/pCloud_synced/Academics/Projects/2020_thesis/thesis_experiments/3_experiments/3_1_gap_measure/3_1_3_data_analysis/python_analysis/scratch.ipynb#X11sZmlsZQ%3D%3D?line=0'>1</a>\u001b[0m df_daily_sr_wide \u001b[39m=\u001b[39m df_daily_sr\u001b[39m.\u001b[39mpivot_table(index\u001b[39m=\u001b[39m[\u001b[39m\"\u001b[39m\u001b[39mParticipantIdentifier\u001b[39m\u001b[39m\"\u001b[39m, \u001b[39m\"\u001b[39m\u001b[39mtrial_date\u001b[39m\u001b[39m\"\u001b[39m],\n\u001b[1;32m      <a href='vscode-notebook-cell:/Users/djw/Documents/pCloud_synced/Academics/Projects/2020_thesis/thesis_experiments/3_experiments/3_1_gap_measure/3_1_3_data_analysis/python_analysis/scratch.ipynb#X11sZmlsZQ%3D%3D?line=1'>2</a>\u001b[0m                                            columns\u001b[39m=\u001b[39m\u001b[39m'\u001b[39m\u001b[39mResultIdentifier\u001b[39m\u001b[39m'\u001b[39m,\n\u001b[1;32m      <a href='vscode-notebook-cell:/Users/djw/Documents/pCloud_synced/Academics/Projects/2020_thesis/thesis_experiments/3_experiments/3_1_gap_measure/3_1_3_data_analysis/python_analysis/scratch.ipynb#X11sZmlsZQ%3D%3D?line=2'>3</a>\u001b[0m                                            values\u001b[39m=\u001b[39m\u001b[39m'\u001b[39m\u001b[39mAnswers\u001b[39m\u001b[39m'\u001b[39m,\n\u001b[0;32m----> <a href='vscode-notebook-cell:/Users/djw/Documents/pCloud_synced/Academics/Projects/2020_thesis/thesis_experiments/3_experiments/3_1_gap_measure/3_1_3_data_analysis/python_analysis/scratch.ipynb#X11sZmlsZQ%3D%3D?line=3'>4</a>\u001b[0m                                            aggfunc\u001b[39m=\u001b[39m\u001b[39mlambda\u001b[39;00m x: \u001b[39m'\u001b[39m\u001b[39m \u001b[39m\u001b[39m'\u001b[39m\u001b[39m.\u001b[39mjoin(x))\u001b[39m.\u001b[39mreset_index()\n\u001b[1;32m      <a href='vscode-notebook-cell:/Users/djw/Documents/pCloud_synced/Academics/Projects/2020_thesis/thesis_experiments/3_experiments/3_1_gap_measure/3_1_3_data_analysis/python_analysis/scratch.ipynb#X11sZmlsZQ%3D%3D?line=4'>5</a>\u001b[0m \u001b[39m# get rid of name on index\u001b[39;00m\n\u001b[1;32m      <a href='vscode-notebook-cell:/Users/djw/Documents/pCloud_synced/Academics/Projects/2020_thesis/thesis_experiments/3_experiments/3_1_gap_measure/3_1_3_data_analysis/python_analysis/scratch.ipynb#X11sZmlsZQ%3D%3D?line=5'>6</a>\u001b[0m df_daily_sr_wide \u001b[39m=\u001b[39m df_daily_sr_wide\u001b[39m.\u001b[39mrename_axis(\u001b[39mNone\u001b[39;00m, axis\u001b[39m=\u001b[39m\u001b[39m1\u001b[39m)\n",
      "\u001b[0;31mTypeError\u001b[0m: sequence item 0: expected str instance, float found"
     ]
    }
   ],
   "source": [
    "df_daily_sr_wide = df_daily_sr.pivot_table(index=[\"ParticipantIdentifier\", \"trial_date\"],\n",
    "                                           columns='ResultIdentifier',\n",
    "                                           values='Answers',\n",
    "                                           aggfunc=lambda x: ' '.join(x)).reset_index()\n",
    "# get rid of name on index\n",
    "df_daily_sr_wide = df_daily_sr_wide.rename_axis(None, axis=1)"
   ]
  },
  {
   "cell_type": "code",
   "execution_count": null,
   "metadata": {},
   "outputs": [],
   "source": [
    "# convert data to numeric where appropriate\n",
    "df_daily_sr_wide.loc[:,df_daily_sr_wide.columns[~df_daily_sr_wide.columns.isin(non_numeric_cols)]] = df_daily_sr_wide.loc[:,df_daily_sr_wide.columns[~df_daily_sr_wide.columns.isin(non_numeric_cols)]].apply(pd.to_numeric, errors='coerce')"
   ]
  },
  {
   "cell_type": "code",
   "execution_count": null,
   "metadata": {},
   "outputs": [],
   "source": [
    "# Break gap cause into two columns\n",
    "df_daily_sr_wide[['DAILY_past24_gapCause_internal', 'DAILY_past24_gapCause_external', 'drop_col', 'drop_col']] = df_daily_sr_wide.DAILY_past24_gapCause.str.split(\"_\", expand = True)\n",
    "df_daily_sr_wide.drop(columns='drop_col', inplace=True)\n",
    "# convert to numeric 0-1\n",
    "cols = ['DAILY_past24_gapCause_internal', 'DAILY_past24_gapCause_external']\n",
    "df_daily_sr_wide[cols] = df_daily_sr_wide[cols].apply(pd.to_numeric, errors = 'coerce')\n",
    "df_daily_sr_wide[cols] = df_daily_sr_wide[cols]/100"
   ]
  },
  {
   "cell_type": "code",
   "execution_count": null,
   "metadata": {},
   "outputs": [],
   "source": [
    "# calculate diet gap\n",
    "df_daily_sr_wide.DAILY_past24_diet = 100 - df_daily_sr_wide.DAILY_past24_diet"
   ]
  },
  {
   "cell_type": "code",
   "execution_count": null,
   "metadata": {},
   "outputs": [],
   "source": [
    "# take the predicted amount from the day before and subtract the actual amount...\n",
    "for i in range(df_daily_sr_wide.shape[0]-1):\n",
    "    df_daily_sr_wide.loc[i+1, 'DAILY_gap_sleep'] =  df_daily_sr_wide.loc[i, 'DAILY_next24_sleep'] - df_daily_sr_wide.loc[i+1, 'DAILY_past24_sleep']\n",
    "    df_daily_sr_wide.loc[i+1, 'DAILY_gap_occupation'] =  df_daily_sr_wide.loc[i, 'DAILY_next24_occupation'] - df_daily_sr_wide.loc[i+1, 'DAILY_past24_occupation']    \n",
    "    df_daily_sr_wide.loc[i+1, 'DAILY_gap_nonoccupation'] =  df_daily_sr_wide.loc[i, 'DAILY_next24_nonoccupation'] - df_daily_sr_wide.loc[i+1, 'DAILY_past24_nonoccupation']    \n",
    "    df_daily_sr_wide.loc[i+1, 'DAILY_gap_leisureSolo'] =  df_daily_sr_wide.loc[i+1, 'DAILY_past24_leisureSolo'] - df_daily_sr_wide.loc[i, 'DAILY_next24_leisureSolo'] # reversed\n",
    "    df_daily_sr_wide.loc[i+1, 'DAILY_gap_leisureNonSolo'] =  df_daily_sr_wide.loc[i+1, 'DAILY_past24_leisureNonSolo']  - df_daily_sr_wide.loc[i, 'DAILY_next24_leisureNonSolo'] # reversed\n",
    "    df_daily_sr_wide.loc[i+1, 'DAILY_gap_exercise'] =  df_daily_sr_wide.loc[i, 'DAILY_next24_exercise'] - df_daily_sr_wide.loc[i+1, 'DAILY_past24_exercise']    \n",
    "    df_daily_sr_wide.loc[i+1, 'DAILY_gap_socialMedia'] =  df_daily_sr_wide.loc[i+1, 'DAILY_past24_socialMedia'] - df_daily_sr_wide.loc[i, 'DAILY_next24_socialMedia'] # reversed \n",
    "    df_daily_sr_wide.loc[i+1, 'DAILY_gap_drinks'] =  df_daily_sr_wide.loc[i+1, 'DAILY_past24_drinks'] - df_daily_sr_wide.loc[i, 'DAILY_next24_drinks'] # reversed\n",
    "    "
   ]
  },
  {
   "cell_type": "code",
   "execution_count": null,
   "metadata": {},
   "outputs": [],
   "source": [
    "list(df_daily_sr_wide.columns)"
   ]
  },
  {
   "cell_type": "code",
   "execution_count": null,
   "metadata": {},
   "outputs": [],
   "source": [
    "# save to csv\n",
    "df_daily_sr_wide.to_csv(save_path + 'run1_selfReport.csv', index=False)"
   ]
  },
  {
   "cell_type": "code",
   "execution_count": null,
   "metadata": {},
   "outputs": [],
   "source": []
  },
  {
   "cell_type": "code",
   "execution_count": null,
   "metadata": {},
   "outputs": [],
   "source": []
  }
 ],
 "metadata": {
  "kernelspec": {
   "display_name": ".venv",
   "language": "python",
   "name": "python3"
  },
  "language_info": {
   "codemirror_mode": {
    "name": "ipython",
    "version": 3
   },
   "file_extension": ".py",
   "mimetype": "text/x-python",
   "name": "python",
   "nbconvert_exporter": "python",
   "pygments_lexer": "ipython3",
   "version": "3.11.4"
  },
  "orig_nbformat": 4
 },
 "nbformat": 4,
 "nbformat_minor": 2
}
