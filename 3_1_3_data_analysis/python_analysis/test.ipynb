{
 "cells": [
  {
   "cell_type": "code",
   "execution_count": 1,
   "metadata": {},
   "outputs": [],
   "source": [
    "import numpy as np\n",
    "import pandas as pd"
   ]
  },
  {
   "cell_type": "code",
   "execution_count": 2,
   "metadata": {},
   "outputs": [],
   "source": [
    "df = pd.read_csv('/Users/djw/Documents/pCloud_synced/Academics/Projects/2020_thesis/thesis_experiments/3_experiments/3_3_experience_sampling/3_3_2_processed_data/run_2/run2_survey_results.csv')"
   ]
  },
  {
   "cell_type": "code",
   "execution_count": 16,
   "metadata": {},
   "outputs": [
    {
     "data": {
      "text/plain": [
       "'{\"name\":\"https://danieljwilson.com/studies/foodTask/hu_proteinShake.jpg\",\"rating\":\"-3\",\"reactionTime\":1905,\"picSeq\":[\"https://danieljwilson.com/studies/foodTask/hu_oatmeal.jpg\",\"https://danieljwilson.com/studies/foodTask/ut_crepe.jpg\",\"https://danieljwilson.com/studies/foodTask/ht_advocadoToast.jpg\",\"https://danieljwilson.com/studies/foodTask/hu_musli.jpg.jpg\",\"https://danieljwilson.com/studies/foodTask/ut_chilaquiles.jpg\",\"https://danieljwilson.com/studies/foodTask/ht_poachedEggs.jpg\",\"https://danieljwilson.com/studies/foodTask/hu_weetabix.jpg\",\"https://danieljwilson.com/studies/foodTask/ut_viennoisChocolat.jpg\",\"https://danieljwilson.com/studies/foodTask/ht_breakfastTacos.jpg\",\"https://danieljwilson.com/studies/foodTask/ut_croissant.jpg\",\"https://danieljwilson.com/studies/foodTask/ht_banana.jpg\",\"https://danieljwilson.com/studies/foodTask/hu_greenShake.jpg\",\"https://danieljwilson.com/studies/foodTask/ut_cinnamonRoll2.jpg\"]}'"
      ]
     },
     "execution_count": 16,
     "metadata": {},
     "output_type": "execute_result"
    }
   ],
   "source": [
    "df.loc[df.ResultIdentifier == 'rating_2'].reset_index(drop=True).Answers[0]"
   ]
  },
  {
   "cell_type": "code",
   "execution_count": null,
   "metadata": {},
   "outputs": [],
   "source": []
  }
 ],
 "metadata": {
  "kernelspec": {
   "display_name": ".venv",
   "language": "python",
   "name": "python3"
  },
  "language_info": {
   "codemirror_mode": {
    "name": "ipython",
    "version": 3
   },
   "file_extension": ".py",
   "mimetype": "text/x-python",
   "name": "python",
   "nbconvert_exporter": "python",
   "pygments_lexer": "ipython3",
   "version": "3.9.12"
  },
  "orig_nbformat": 4
 },
 "nbformat": 4,
 "nbformat_minor": 2
}
